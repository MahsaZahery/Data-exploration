{
 "cells": [
  {
   "cell_type": "markdown",
   "metadata": {},
   "source": [
    "# Incidents responded to by Fire comapnies in NYC \n",
    "In this project, I worked on the dataset \"incidents responded to by Fire companies\", downloaded from NYC open data. The dataset contains information about type of incident, date and time of the incident, date and time when FDNY arrived, the number of units on scene, when was the last unit cleared, actions taken, borough and zip code of the incidents and whether detectors were present or not. \n",
    "I tried to answer the following questions:\n",
    "\n",
    "- What is the most frequent incident? per year? per borough? Is the proportion of incidents the same for each year and borough?\n",
    "\n",
    "- How long does it take for FDNY people to arrive to an incident?\n",
    "\n",
    "- Between midnight and 4AM, what indcidents are most frequent? How many units are sent to these incidents? and in which borough they are most likely to happen?\n",
    "\n",
    "- Is there any correlation between the time fdny arrives and the borough the incident has happened in? \n",
    "\n",
    "- Is there any correlation between incidents that take more than 60 minutes and the presence or absence of CO detector?\n",
    "\n",
    "- Finally, I tried to predict the number of units an incident needs to be resolved based on the information from the other columns.\n",
    "    \n",
    "    "
   ]
  },
  {
   "cell_type": "code",
   "execution_count": 129,
   "metadata": {},
   "outputs": [],
   "source": [
    "import pandas as pd\n",
    "import numpy as np\n",
    "import matplotlib.pyplot as plt\n",
    "import seaborn as sns\n",
    "import scipy\n",
    "%matplotlib inline"
   ]
  },
  {
   "cell_type": "code",
   "execution_count": 2,
   "metadata": {},
   "outputs": [
    {
     "data": {
      "text/html": [
       "<div>\n",
       "<style scoped>\n",
       "    .dataframe tbody tr th:only-of-type {\n",
       "        vertical-align: middle;\n",
       "    }\n",
       "\n",
       "    .dataframe tbody tr th {\n",
       "        vertical-align: top;\n",
       "    }\n",
       "\n",
       "    .dataframe thead th {\n",
       "        text-align: right;\n",
       "    }\n",
       "</style>\n",
       "<table border=\"1\" class=\"dataframe\">\n",
       "  <thead>\n",
       "    <tr style=\"text-align: right;\">\n",
       "      <th></th>\n",
       "      <th>IM_INCIDENT_KEY</th>\n",
       "      <th>FIRE_BOX</th>\n",
       "      <th>INCIDENT_TYPE_DESC</th>\n",
       "      <th>INCIDENT_DATE_TIME</th>\n",
       "      <th>ARRIVAL_DATE_TIME</th>\n",
       "      <th>UNITS_ONSCENE</th>\n",
       "      <th>LAST_UNIT_CLEARED_DATE_TIME</th>\n",
       "      <th>HIGHEST_LEVEL_DESC</th>\n",
       "      <th>TOTAL_INCIDENT_DURATION</th>\n",
       "      <th>ACTION_TAKEN1_DESC</th>\n",
       "      <th>...</th>\n",
       "      <th>ZIP_CODE</th>\n",
       "      <th>BOROUGH_DESC</th>\n",
       "      <th>FLOOR</th>\n",
       "      <th>CO_DETECTOR_PRESENT_DESC</th>\n",
       "      <th>FIRE_ORIGIN_BELOW_GRADE_FLAG</th>\n",
       "      <th>STORY_FIRE_ORIGIN_COUNT</th>\n",
       "      <th>FIRE_SPREAD_DESC</th>\n",
       "      <th>DETECTOR_PRESENCE_DESC</th>\n",
       "      <th>AES_PRESENCE_DESC</th>\n",
       "      <th>STANDPIPE_SYS_PRESENT_FLAG</th>\n",
       "    </tr>\n",
       "  </thead>\n",
       "  <tbody>\n",
       "    <tr>\n",
       "      <th>0</th>\n",
       "      <td>55672688</td>\n",
       "      <td>2147</td>\n",
       "      <td>300 - Rescue, EMS incident, other</td>\n",
       "      <td>01/01/2013 12:00:20 AM</td>\n",
       "      <td>01/01/2013 12:14:23 AM</td>\n",
       "      <td>1.0</td>\n",
       "      <td>01/01/2013 12:20:06 AM</td>\n",
       "      <td>1 - More than initial alarm, less than Signal 7-5</td>\n",
       "      <td>1186.0</td>\n",
       "      <td>00 - Action taken, other</td>\n",
       "      <td>...</td>\n",
       "      <td>10454</td>\n",
       "      <td>2 - Bronx</td>\n",
       "      <td>NaN</td>\n",
       "      <td>NaN</td>\n",
       "      <td>NaN</td>\n",
       "      <td>NaN</td>\n",
       "      <td>NaN</td>\n",
       "      <td>NaN</td>\n",
       "      <td>NaN</td>\n",
       "      <td>NaN</td>\n",
       "    </tr>\n",
       "    <tr>\n",
       "      <th>1</th>\n",
       "      <td>55672692</td>\n",
       "      <td>0818</td>\n",
       "      <td>735A - Unwarranted alarm/defective condition o...</td>\n",
       "      <td>01/01/2013 12:00:37 AM</td>\n",
       "      <td>01/01/2013 12:09:03 AM</td>\n",
       "      <td>3.0</td>\n",
       "      <td>01/01/2013 12:30:06 AM</td>\n",
       "      <td>1 - More than initial alarm, less than Signal 7-5</td>\n",
       "      <td>1769.0</td>\n",
       "      <td>86 - Investigate</td>\n",
       "      <td>...</td>\n",
       "      <td>10036</td>\n",
       "      <td>1 - Manhattan</td>\n",
       "      <td>NaN</td>\n",
       "      <td>NaN</td>\n",
       "      <td>NaN</td>\n",
       "      <td>NaN</td>\n",
       "      <td>NaN</td>\n",
       "      <td>NaN</td>\n",
       "      <td>NaN</td>\n",
       "      <td>NaN</td>\n",
       "    </tr>\n",
       "    <tr>\n",
       "      <th>2</th>\n",
       "      <td>55672693</td>\n",
       "      <td>9656</td>\n",
       "      <td>300 - Rescue, EMS incident, other</td>\n",
       "      <td>01/01/2013 12:01:17 AM</td>\n",
       "      <td>01/01/2013 12:04:55 AM</td>\n",
       "      <td>1.0</td>\n",
       "      <td>01/01/2013 12:15:18 AM</td>\n",
       "      <td>1 - More than initial alarm, less than Signal 7-5</td>\n",
       "      <td>841.0</td>\n",
       "      <td>00 - Action taken, other</td>\n",
       "      <td>...</td>\n",
       "      <td>11418</td>\n",
       "      <td>5 - Queens</td>\n",
       "      <td>NaN</td>\n",
       "      <td>NaN</td>\n",
       "      <td>NaN</td>\n",
       "      <td>NaN</td>\n",
       "      <td>NaN</td>\n",
       "      <td>NaN</td>\n",
       "      <td>NaN</td>\n",
       "      <td>NaN</td>\n",
       "    </tr>\n",
       "    <tr>\n",
       "      <th>3</th>\n",
       "      <td>55672695</td>\n",
       "      <td>7412</td>\n",
       "      <td>412 - Gas leak (natural gas or LPG)</td>\n",
       "      <td>01/01/2013 12:02:32 AM</td>\n",
       "      <td>01/01/2013 12:07:48 AM</td>\n",
       "      <td>4.0</td>\n",
       "      <td>01/01/2013 12:40:11 AM</td>\n",
       "      <td>1 - More than initial alarm, less than Signal 7-5</td>\n",
       "      <td>2259.0</td>\n",
       "      <td>44 - Hazardous materials leak control &amp; contai...</td>\n",
       "      <td>...</td>\n",
       "      <td>11103</td>\n",
       "      <td>5 - Queens</td>\n",
       "      <td>1</td>\n",
       "      <td>NaN</td>\n",
       "      <td>NaN</td>\n",
       "      <td>NaN</td>\n",
       "      <td>NaN</td>\n",
       "      <td>NaN</td>\n",
       "      <td>NaN</td>\n",
       "      <td>NaN</td>\n",
       "    </tr>\n",
       "    <tr>\n",
       "      <th>4</th>\n",
       "      <td>55672697</td>\n",
       "      <td>4019</td>\n",
       "      <td>735A - Unwarranted alarm/defective condition o...</td>\n",
       "      <td>01/01/2013 12:01:49 AM</td>\n",
       "      <td>01/01/2013 12:06:27 AM</td>\n",
       "      <td>6.0</td>\n",
       "      <td>01/01/2013 12:24:56 AM</td>\n",
       "      <td>1 - More than initial alarm, less than Signal 7-5</td>\n",
       "      <td>1387.0</td>\n",
       "      <td>86 - Investigate</td>\n",
       "      <td>...</td>\n",
       "      <td>11385</td>\n",
       "      <td>5 - Queens</td>\n",
       "      <td>NaN</td>\n",
       "      <td>NaN</td>\n",
       "      <td>NaN</td>\n",
       "      <td>NaN</td>\n",
       "      <td>NaN</td>\n",
       "      <td>NaN</td>\n",
       "      <td>NaN</td>\n",
       "      <td>NaN</td>\n",
       "    </tr>\n",
       "  </tbody>\n",
       "</table>\n",
       "<p>5 rows × 24 columns</p>\n",
       "</div>"
      ],
      "text/plain": [
       "   IM_INCIDENT_KEY FIRE_BOX  \\\n",
       "0         55672688     2147   \n",
       "1         55672692     0818   \n",
       "2         55672693     9656   \n",
       "3         55672695     7412   \n",
       "4         55672697     4019   \n",
       "\n",
       "                                  INCIDENT_TYPE_DESC      INCIDENT_DATE_TIME  \\\n",
       "0                  300 - Rescue, EMS incident, other  01/01/2013 12:00:20 AM   \n",
       "1  735A - Unwarranted alarm/defective condition o...  01/01/2013 12:00:37 AM   \n",
       "2                  300 - Rescue, EMS incident, other  01/01/2013 12:01:17 AM   \n",
       "3                412 - Gas leak (natural gas or LPG)  01/01/2013 12:02:32 AM   \n",
       "4  735A - Unwarranted alarm/defective condition o...  01/01/2013 12:01:49 AM   \n",
       "\n",
       "        ARRIVAL_DATE_TIME  UNITS_ONSCENE LAST_UNIT_CLEARED_DATE_TIME  \\\n",
       "0  01/01/2013 12:14:23 AM            1.0      01/01/2013 12:20:06 AM   \n",
       "1  01/01/2013 12:09:03 AM            3.0      01/01/2013 12:30:06 AM   \n",
       "2  01/01/2013 12:04:55 AM            1.0      01/01/2013 12:15:18 AM   \n",
       "3  01/01/2013 12:07:48 AM            4.0      01/01/2013 12:40:11 AM   \n",
       "4  01/01/2013 12:06:27 AM            6.0      01/01/2013 12:24:56 AM   \n",
       "\n",
       "                                  HIGHEST_LEVEL_DESC  TOTAL_INCIDENT_DURATION  \\\n",
       "0  1 - More than initial alarm, less than Signal 7-5                   1186.0   \n",
       "1  1 - More than initial alarm, less than Signal 7-5                   1769.0   \n",
       "2  1 - More than initial alarm, less than Signal 7-5                    841.0   \n",
       "3  1 - More than initial alarm, less than Signal 7-5                   2259.0   \n",
       "4  1 - More than initial alarm, less than Signal 7-5                   1387.0   \n",
       "\n",
       "                                  ACTION_TAKEN1_DESC  \\\n",
       "0                           00 - Action taken, other   \n",
       "1                                   86 - Investigate   \n",
       "2                           00 - Action taken, other   \n",
       "3  44 - Hazardous materials leak control & contai...   \n",
       "4                                   86 - Investigate   \n",
       "\n",
       "              ...             ZIP_CODE   BOROUGH_DESC FLOOR  \\\n",
       "0             ...                10454      2 - Bronx   NaN   \n",
       "1             ...                10036  1 - Manhattan   NaN   \n",
       "2             ...                11418     5 - Queens   NaN   \n",
       "3             ...                11103     5 - Queens     1   \n",
       "4             ...                11385     5 - Queens   NaN   \n",
       "\n",
       "  CO_DETECTOR_PRESENT_DESC FIRE_ORIGIN_BELOW_GRADE_FLAG  \\\n",
       "0                      NaN                          NaN   \n",
       "1                      NaN                          NaN   \n",
       "2                      NaN                          NaN   \n",
       "3                      NaN                          NaN   \n",
       "4                      NaN                          NaN   \n",
       "\n",
       "  STORY_FIRE_ORIGIN_COUNT FIRE_SPREAD_DESC DETECTOR_PRESENCE_DESC  \\\n",
       "0                     NaN              NaN                    NaN   \n",
       "1                     NaN              NaN                    NaN   \n",
       "2                     NaN              NaN                    NaN   \n",
       "3                     NaN              NaN                    NaN   \n",
       "4                     NaN              NaN                    NaN   \n",
       "\n",
       "   AES_PRESENCE_DESC  STANDPIPE_SYS_PRESENT_FLAG  \n",
       "0                NaN                         NaN  \n",
       "1                NaN                         NaN  \n",
       "2                NaN                         NaN  \n",
       "3                NaN                         NaN  \n",
       "4                NaN                         NaN  \n",
       "\n",
       "[5 rows x 24 columns]"
      ]
     },
     "execution_count": 2,
     "metadata": {},
     "output_type": "execute_result"
    }
   ],
   "source": [
    "df = pd.read_csv(\"Incidents_Responded_to_by_Fire_Companies.csv\", low_memory = False)\n",
    "df.head()"
   ]
  },
  {
   "cell_type": "code",
   "execution_count": 3,
   "metadata": {},
   "outputs": [
    {
     "data": {
      "text/plain": [
       "(2277779, 24)"
      ]
     },
     "execution_count": 3,
     "metadata": {},
     "output_type": "execute_result"
    }
   ],
   "source": [
    "df.shape"
   ]
  },
  {
   "cell_type": "code",
   "execution_count": 4,
   "metadata": {},
   "outputs": [
    {
     "data": {
      "text/plain": [
       "Index(['IM_INCIDENT_KEY', 'FIRE_BOX', 'INCIDENT_TYPE_DESC',\n",
       "       'INCIDENT_DATE_TIME', 'ARRIVAL_DATE_TIME', 'UNITS_ONSCENE',\n",
       "       'LAST_UNIT_CLEARED_DATE_TIME', 'HIGHEST_LEVEL_DESC',\n",
       "       'TOTAL_INCIDENT_DURATION', 'ACTION_TAKEN1_DESC', 'ACTION_TAKEN2_DESC',\n",
       "       'ACTION_TAKEN3_DESC', 'PROPERTY_USE_DESC', 'STREET_HIGHWAY', 'ZIP_CODE',\n",
       "       'BOROUGH_DESC', 'FLOOR', 'CO_DETECTOR_PRESENT_DESC',\n",
       "       'FIRE_ORIGIN_BELOW_GRADE_FLAG', 'STORY_FIRE_ORIGIN_COUNT',\n",
       "       'FIRE_SPREAD_DESC', 'DETECTOR_PRESENCE_DESC', 'AES_PRESENCE_DESC',\n",
       "       'STANDPIPE_SYS_PRESENT_FLAG'],\n",
       "      dtype='object')"
      ]
     },
     "execution_count": 4,
     "metadata": {},
     "output_type": "execute_result"
    }
   ],
   "source": [
    "df.columns"
   ]
  },
  {
   "cell_type": "code",
   "execution_count": 5,
   "metadata": {},
   "outputs": [
    {
     "data": {
      "text/plain": [
       "IM_INCIDENT_KEY                       0\n",
       "FIRE_BOX                              9\n",
       "INCIDENT_TYPE_DESC                    0\n",
       "INCIDENT_DATE_TIME                    0\n",
       "ARRIVAL_DATE_TIME                 55218\n",
       "UNITS_ONSCENE                     55412\n",
       "LAST_UNIT_CLEARED_DATE_TIME           2\n",
       "HIGHEST_LEVEL_DESC                  139\n",
       "TOTAL_INCIDENT_DURATION             136\n",
       "ACTION_TAKEN1_DESC                    0\n",
       "ACTION_TAKEN2_DESC              1797081\n",
       "ACTION_TAKEN3_DESC              2055727\n",
       "PROPERTY_USE_DESC                     6\n",
       "STREET_HIGHWAY                    38157\n",
       "ZIP_CODE                              8\n",
       "BOROUGH_DESC                          0\n",
       "FLOOR                           1790372\n",
       "CO_DETECTOR_PRESENT_DESC        2248104\n",
       "FIRE_ORIGIN_BELOW_GRADE_FLAG    2275870\n",
       "STORY_FIRE_ORIGIN_COUNT         2264660\n",
       "FIRE_SPREAD_DESC                2264661\n",
       "DETECTOR_PRESENCE_DESC          2264662\n",
       "AES_PRESENCE_DESC               2264662\n",
       "STANDPIPE_SYS_PRESENT_FLAG      2264658\n",
       "dtype: int64"
      ]
     },
     "execution_count": 5,
     "metadata": {},
     "output_type": "execute_result"
    }
   ],
   "source": [
    "df.isna().sum()"
   ]
  },
  {
   "cell_type": "markdown",
   "metadata": {},
   "source": [
    "Last columns are almost all missing values. For any analysis later, it will be best to completely remove these columns"
   ]
  },
  {
   "cell_type": "markdown",
   "metadata": {},
   "source": [
    "__Check for duplicates__\n",
    "\n",
    "Just to make sure there are no duplicates in the dataset, we use drop_duplicates function and then check the shape of the dataset to see if it is different from the original dataset. "
   ]
  },
  {
   "cell_type": "code",
   "execution_count": 6,
   "metadata": {},
   "outputs": [
    {
     "data": {
      "text/plain": [
       "(2277779, 24)"
      ]
     },
     "execution_count": 6,
     "metadata": {},
     "output_type": "execute_result"
    }
   ],
   "source": [
    "df.drop_duplicates(inplace=True)\n",
    "df.shape"
   ]
  },
  {
   "cell_type": "markdown",
   "metadata": {},
   "source": [
    "__Data Exploration__\n",
    "\n",
    "Now we are going to explore the features of the dataset. We are going to start with INCIDENT_TYPE_DESC column"
   ]
  },
  {
   "cell_type": "code",
   "execution_count": 7,
   "metadata": {},
   "outputs": [
    {
     "data": {
      "text/plain": [
       "182"
      ]
     },
     "execution_count": 7,
     "metadata": {},
     "output_type": "execute_result"
    }
   ],
   "source": [
    "df.INCIDENT_TYPE_DESC.nunique()"
   ]
  },
  {
   "cell_type": "markdown",
   "metadata": {},
   "source": [
    "We're gonna count the 10 most frequent incidents in the dataset and illustrate it with a seaborn countplot."
   ]
  },
  {
   "cell_type": "code",
   "execution_count": 16,
   "metadata": {},
   "outputs": [
    {
     "data": {
      "text/plain": [
       "[Text(0,0,'300 - Rescue, EMS incident, other'),\n",
       " Text(0,0,'651 - Smoke scare, odor of smoke'),\n",
       " Text(0,0,'353 - Removal of victim(s) from stalled elevator'),\n",
       " Text(0,0,'710 - Malicious, mischievous false call, other'),\n",
       " Text(0,0,'522 - Water or steam leak'),\n",
       " Text(0,0,'412 - Gas leak (natural gas or LPG)'),\n",
       " Text(0,0,'735A - Unwarranted alarm/defective condition of alarm system'),\n",
       " Text(0,0,'113 - Cooking fire, confined to container'),\n",
       " Text(0,0,'555 - Defective elevator, no occupants'),\n",
       " Text(0,0,'736 - CO detector activation due to malfunction')]"
      ]
     },
     "execution_count": 16,
     "metadata": {},
     "output_type": "execute_result"
    },
    {
     "data": {
      "image/png": "[encoded data removed]",
      "text/plain": [
       "<Figure size 720x432 with 1 Axes>"
      ]
     },
     "metadata": {},
     "output_type": "display_data"
    }
   ],
   "source": [
    "plt.figure(figsize = (10, 6))\n",
    "g = sns.countplot(x = df.INCIDENT_TYPE_DESC, data = df, \n",
    "             order=df.INCIDENT_TYPE_DESC.value_counts().iloc[:10].index)\n",
    "g.set_xticklabels(g.get_xticklabels(), rotation=90)"
   ]
  },
  {
   "cell_type": "markdown",
   "metadata": {},
   "source": [
    "The code \"300 - Rescue, EMS incident, Other\" is the most frequent incident for teh whole dataset"
   ]
  },
  {
   "cell_type": "markdown",
   "metadata": {},
   "source": [
    "Next, we convert date columns to datetime objects"
   ]
  },
  {
   "cell_type": "code",
   "execution_count": null,
   "metadata": {},
   "outputs": [],
   "source": [
    "df['INCIDENT_DATE_TIME'] = pd.to_datetime(df['INCIDENT_DATE_TIME'], errors = 'coerce')\n",
    "df['ARRIVAL_DATE_TIME'] = pd.to_datetime(df['ARRIVAL_DATE_TIME'], errors='coerce')\n",
    "df['LAST_UNIT_CLEARED_DATE_TIME'] = pd.to_datetime(df['LAST_UNIT_CLEARED_DATE_TIME'], errors='coerce')"
   ]
  },
  {
   "cell_type": "markdown",
   "metadata": {},
   "source": [
    "Let's save the dataset for now"
   ]
  },
  {
   "cell_type": "code",
   "execution_count": null,
   "metadata": {},
   "outputs": [],
   "source": [
    "df.to_pickle(\"./df_datesConverted.pkl\")"
   ]
  },
  {
   "cell_type": "code",
   "execution_count": 137,
   "metadata": {},
   "outputs": [],
   "source": [
    "df = pd.read_pickle(\"df_datesConverted.pkl\")"
   ]
  },
  {
   "cell_type": "markdown",
   "metadata": {},
   "source": [
    "Which year has seen highest number of incidents?"
   ]
  },
  {
   "cell_type": "code",
   "execution_count": 4,
   "metadata": {
    "scrolled": true
   },
   "outputs": [
    {
     "data": {
      "text/plain": [
       "2015    484874\n",
       "2016    478441\n",
       "2017    468355\n",
       "2014    440526\n",
       "2013    405583\n",
       "Name: INCIDENT_DATE_TIME, dtype: int64"
      ]
     },
     "execution_count": 4,
     "metadata": {},
     "output_type": "execute_result"
    }
   ],
   "source": [
    "df.INCIDENT_DATE_TIME.dt.year.value_counts()"
   ]
  },
  {
   "cell_type": "markdown",
   "metadata": {},
   "source": [
    "Let's plot this"
   ]
  },
  {
   "cell_type": "code",
   "execution_count": 19,
   "metadata": {},
   "outputs": [
    {
     "data": {
      "text/plain": [
       "<matplotlib.axes._subplots.AxesSubplot at 0x1a6db09940>"
      ]
     },
     "execution_count": 19,
     "metadata": {},
     "output_type": "execute_result"
    },
    {
     "data": {
      "image/png": "[encoded data removed]",
      "text/plain": [
       "<Figure size 432x288 with 1 Axes>"
      ]
     },
     "metadata": {},
     "output_type": "display_data"
    }
   ],
   "source": [
    "sns.countplot(x = df.INCIDENT_DATE_TIME.dt.year, data = df)"
   ]
  },
  {
   "cell_type": "code",
   "execution_count": 22,
   "metadata": {},
   "outputs": [
    {
     "data": {
      "text/plain": [
       "<matplotlib.axes._subplots.AxesSubplot at 0x10cfbc978>"
      ]
     },
     "execution_count": 22,
     "metadata": {},
     "output_type": "execute_result"
    },
    {
     "data": {
      "image/png": "[encoded data removed]",
      "text/plain": [
       "<Figure size 432x288 with 1 Axes>"
      ]
     },
     "metadata": {},
     "output_type": "display_data"
    }
   ],
   "source": [
    "sns.countplot(x = df.INCIDENT_DATE_TIME.dt.month, data = df)"
   ]
  },
  {
   "cell_type": "markdown",
   "metadata": {},
   "source": [
    "July is the busiest month for FDNY"
   ]
  },
  {
   "cell_type": "markdown",
   "metadata": {},
   "source": [
    "Curious about knowing if the proportion of 5 most frequent incidents is the same for every year"
   ]
  },
  {
   "cell_type": "code",
   "execution_count": 13,
   "metadata": {},
   "outputs": [
    {
     "data": {
      "text/plain": [
       "<matplotlib.legend.Legend at 0x1a32c3c518>"
      ]
     },
     "execution_count": 13,
     "metadata": {},
     "output_type": "execute_result"
    },
    {
     "data": {
      "image/png": "[encoded data removed]",
      "text/plain": [
       "<Figure size 576x432 with 1 Axes>"
      ]
     },
     "metadata": {},
     "output_type": "display_data"
    }
   ],
   "source": [
    "year_type = df.groupby([df.INCIDENT_DATE_TIME.dt.year , df.loc[df.INCIDENT_TYPE_DESC.isin(df.INCIDENT_TYPE_DESC.value_counts().iloc[:5].index),\n",
    "                   \"INCIDENT_TYPE_DESC\"]]).count()[\"FIRE_BOX\"].unstack()\n",
    "year_type.plot(kind='bar', stacked=True, figsize = (8,6))\n",
    "plt.legend(bbox_to_anchor=(1.04,1), loc=\"upper left\")"
   ]
  },
  {
   "cell_type": "markdown",
   "metadata": {},
   "source": [
    "The proportions look the same for different years. Only 1n 2013, the incident \"Smoke scare, odor of smoke\" is less frequent compared to the other years"
   ]
  },
  {
   "cell_type": "code",
   "execution_count": 14,
   "metadata": {},
   "outputs": [
    {
     "data": {
      "text/plain": [
       "<matplotlib.legend.Legend at 0x1a32c8eb00>"
      ]
     },
     "execution_count": 14,
     "metadata": {},
     "output_type": "execute_result"
    },
    {
     "data": {
      "image/png": "[encoded data removed]",
      "text/plain": [
       "<Figure size 432x288 with 1 Axes>"
      ]
     },
     "metadata": {},
     "output_type": "display_data"
    }
   ],
   "source": [
    "borough_type = df.groupby([\"BOROUGH_DESC\", df.loc[df.INCIDENT_TYPE_DESC.isin(df.INCIDENT_TYPE_DESC.value_counts().iloc[:5].index),\n",
    "                   \"INCIDENT_TYPE_DESC\"]]).count()[\"FIRE_BOX\"].unstack()\n",
    "borough_type.plot(kind='bar', stacked=True)\n",
    "plt.legend(bbox_to_anchor=(1.04,1), loc=\"upper left\")"
   ]
  },
  {
   "cell_type": "markdown",
   "metadata": {},
   "source": [
    "It seems in Queens, people are less likely to get trapped inside an elevator compared with other boroughs"
   ]
  },
  {
   "cell_type": "code",
   "execution_count": 138,
   "metadata": {},
   "outputs": [],
   "source": [
    "from datetime import datetime\n",
    "from datetime import timedelta"
   ]
  },
  {
   "cell_type": "code",
   "execution_count": 139,
   "metadata": {},
   "outputs": [],
   "source": [
    "def duration(date1, date2):\n",
    "    return (date2 - date1).astype('timedelta64[s]')/60"
   ]
  },
  {
   "cell_type": "code",
   "execution_count": 140,
   "metadata": {},
   "outputs": [],
   "source": [
    "minutes = duration(df[\"INCIDENT_DATE_TIME\"], \n",
    "                      df[\"ARRIVAL_DATE_TIME\"])"
   ]
  },
  {
   "cell_type": "code",
   "execution_count": 135,
   "metadata": {},
   "outputs": [
    {
     "data": {
      "text/plain": [
       "count    2.222560e+06\n",
       "mean     5.091810e+00\n",
       "std      1.215225e+01\n",
       "min     -5.393333e+01\n",
       "25%      3.633333e+00\n",
       "50%      4.566667e+00\n",
       "75%      5.733333e+00\n",
       "max      1.000497e+04\n",
       "dtype: float64"
      ]
     },
     "execution_count": 135,
     "metadata": {},
     "output_type": "execute_result"
    }
   ],
   "source": [
    "minutes.describe()"
   ]
  },
  {
   "cell_type": "markdown",
   "metadata": {},
   "source": [
    "Weird. The minimum value is negative. How is it possible for an incident to happen after the FDNY people have arrived?"
   ]
  },
  {
   "cell_type": "code",
   "execution_count": 141,
   "metadata": {},
   "outputs": [
    {
     "data": {
      "text/plain": [
       "1736475"
      ]
     },
     "execution_count": 141,
     "metadata": {},
     "output_type": "execute_result"
    }
   ],
   "source": [
    "minutes.idxmin()"
   ]
  },
  {
   "cell_type": "code",
   "execution_count": 142,
   "metadata": {},
   "outputs": [
    {
     "data": {
      "text/plain": [
       "IM_INCIDENT_KEY                                                          60580274\n",
       "FIRE_BOX                                                                     2851\n",
       "INCIDENT_TYPE_DESC                              300 - Rescue, EMS incident, other\n",
       "INCIDENT_DATE_TIME                                            2016-11-06 01:56:40\n",
       "ARRIVAL_DATE_TIME                                             2016-11-06 00:11:58\n",
       "UNITS_ONSCENE                                                                   1\n",
       "LAST_UNIT_CLEARED_DATE_TIME                                   2016-11-06 02:08:02\n",
       "HIGHEST_LEVEL_DESC              1 - More than initial alarm, less than Signal 7-5\n",
       "TOTAL_INCIDENT_DURATION                                                       682\n",
       "ACTION_TAKEN1_DESC                                       00 - Action taken, other\n",
       "ACTION_TAKEN2_DESC                                                            NaN\n",
       "ACTION_TAKEN3_DESC                                                            NaN\n",
       "PROPERTY_USE_DESC                                              UUU - Undetermined\n",
       "STREET_HIGHWAY                                                         WATSON AVE\n",
       "ZIP_CODE                                                                    10472\n",
       "BOROUGH_DESC                                                            2 - Bronx\n",
       "FLOOR                                                                         NaN\n",
       "CO_DETECTOR_PRESENT_DESC                                                      NaN\n",
       "FIRE_ORIGIN_BELOW_GRADE_FLAG                                                  NaN\n",
       "STORY_FIRE_ORIGIN_COUNT                                                       NaN\n",
       "FIRE_SPREAD_DESC                                                              NaN\n",
       "DETECTOR_PRESENCE_DESC                                                        NaN\n",
       "AES_PRESENCE_DESC                                                             NaN\n",
       "STANDPIPE_SYS_PRESENT_FLAG                                                    NaN\n",
       "Name: 1736475, dtype: object"
      ]
     },
     "execution_count": 142,
     "metadata": {},
     "output_type": "execute_result"
    }
   ],
   "source": [
    "df.iloc[1736475]"
   ]
  },
  {
   "cell_type": "markdown",
   "metadata": {},
   "source": [
    "Maybe the arrival time and the incident date time are mistakenly swaped. It might be safe to remove this instance."
   ]
  },
  {
   "cell_type": "code",
   "execution_count": 143,
   "metadata": {},
   "outputs": [],
   "source": [
    "df.drop(1736475, inplace=True)\n",
    "minutes.drop(1736475, inplace=True)"
   ]
  },
  {
   "cell_type": "code",
   "execution_count": 144,
   "metadata": {},
   "outputs": [
    {
     "data": {
      "text/plain": [
       "count    2.222560e+06\n",
       "mean     5.091810e+00\n",
       "std      1.215225e+01\n",
       "min     -5.393333e+01\n",
       "25%      3.633333e+00\n",
       "50%      4.566667e+00\n",
       "75%      5.733333e+00\n",
       "max      1.000497e+04\n",
       "dtype: float64"
      ]
     },
     "execution_count": 144,
     "metadata": {},
     "output_type": "execute_result"
    }
   ],
   "source": [
    "minutes.describe()"
   ]
  },
  {
   "cell_type": "markdown",
   "metadata": {},
   "source": [
    "Looks like there are more negative values. Let's see how many, and remove them from our dataset"
   ]
  },
  {
   "cell_type": "code",
   "execution_count": 26,
   "metadata": {},
   "outputs": [
    {
     "data": {
      "text/plain": [
       "12"
      ]
     },
     "execution_count": 26,
     "metadata": {},
     "output_type": "execute_result"
    }
   ],
   "source": [
    "minutes[minutes < 0].count()"
   ]
  },
  {
   "cell_type": "code",
   "execution_count": 27,
   "metadata": {},
   "outputs": [
    {
     "data": {
      "text/plain": [
       "Int64Index([ 340366,  775324,  775343,  775345,  775348, 1254483, 1254521,\n",
       "            1254525, 1254526, 1736477, 2204022, 2204023],\n",
       "           dtype='int64')"
      ]
     },
     "execution_count": 27,
     "metadata": {},
     "output_type": "execute_result"
    }
   ],
   "source": [
    "minutes[minutes < 0].index"
   ]
  },
  {
   "cell_type": "code",
   "execution_count": 145,
   "metadata": {},
   "outputs": [],
   "source": [
    "df.drop(minutes[minutes < 0].index, inplace=True)\n",
    "minutes.drop(minutes[minutes < 0].index, inplace=True)"
   ]
  },
  {
   "cell_type": "code",
   "execution_count": 29,
   "metadata": {},
   "outputs": [
    {
     "data": {
      "text/plain": [
       "(2277766, 24)"
      ]
     },
     "execution_count": 29,
     "metadata": {},
     "output_type": "execute_result"
    }
   ],
   "source": [
    "df.shape"
   ]
  },
  {
   "cell_type": "code",
   "execution_count": 30,
   "metadata": {},
   "outputs": [
    {
     "data": {
      "text/plain": [
       "count    2.222548e+06\n",
       "mean     5.092044e+00\n",
       "std      1.215181e+01\n",
       "min      6.666667e-02\n",
       "25%      3.633333e+00\n",
       "50%      4.566667e+00\n",
       "75%      5.733333e+00\n",
       "max      1.000497e+04\n",
       "dtype: float64"
      ]
     },
     "execution_count": 30,
     "metadata": {},
     "output_type": "execute_result"
    }
   ],
   "source": [
    "minutes.describe()"
   ]
  },
  {
   "cell_type": "markdown",
   "metadata": {},
   "source": [
    "It took 7 days for FDNY to arrive an incident scene. Let's explore this incident"
   ]
  },
  {
   "cell_type": "code",
   "execution_count": 33,
   "metadata": {},
   "outputs": [
    {
     "data": {
      "text/plain": [
       "313318"
      ]
     },
     "execution_count": 33,
     "metadata": {},
     "output_type": "execute_result"
    }
   ],
   "source": [
    "minutes.idxmax()"
   ]
  },
  {
   "cell_type": "code",
   "execution_count": 34,
   "metadata": {},
   "outputs": [
    {
     "data": {
      "text/plain": [
       "IM_INCIDENT_KEY                                                          56474083\n",
       "FIRE_BOX                                                                     2853\n",
       "INCIDENT_TYPE_DESC                 710 - Malicious, mischievous false call, other\n",
       "INCIDENT_DATE_TIME                                            2013-10-02 03:04:29\n",
       "ARRIVAL_DATE_TIME                                             2013-10-09 01:49:27\n",
       "UNITS_ONSCENE                                                                   1\n",
       "LAST_UNIT_CLEARED_DATE_TIME                                   2013-10-09 01:50:06\n",
       "HIGHEST_LEVEL_DESC              1 - More than initial alarm, less than Signal 7-5\n",
       "TOTAL_INCIDENT_DURATION                                                    600337\n",
       "ACTION_TAKEN1_DESC                                       00 - Action taken, other\n",
       "ACTION_TAKEN2_DESC                                                            NaN\n",
       "ACTION_TAKEN3_DESC                                                            NaN\n",
       "PROPERTY_USE_DESC                                              UUU - Undetermined\n",
       "STREET_HIGHWAY                                                                NaN\n",
       "ZIP_CODE                                                                    10472\n",
       "BOROUGH_DESC                                                            2 - Bronx\n",
       "FLOOR                                                                         NaN\n",
       "CO_DETECTOR_PRESENT_DESC                                                      NaN\n",
       "FIRE_ORIGIN_BELOW_GRADE_FLAG                                                  NaN\n",
       "STORY_FIRE_ORIGIN_COUNT                                                       NaN\n",
       "FIRE_SPREAD_DESC                                                              NaN\n",
       "DETECTOR_PRESENCE_DESC                                                        NaN\n",
       "AES_PRESENCE_DESC                                                             NaN\n",
       "STANDPIPE_SYS_PRESENT_FLAG                                                    NaN\n",
       "Name: 313318, dtype: object"
      ]
     },
     "execution_count": 34,
     "metadata": {},
     "output_type": "execute_result"
    }
   ],
   "source": [
    "df.iloc[313318]"
   ]
  },
  {
   "cell_type": "markdown",
   "metadata": {},
   "source": [
    "OK. That was a false call"
   ]
  },
  {
   "cell_type": "code",
   "execution_count": 20,
   "metadata": {},
   "outputs": [],
   "source": [
    "df_minutes = pd.DataFrame(minutes, columns = [\"Minutes\"])"
   ]
  },
  {
   "cell_type": "markdown",
   "metadata": {},
   "source": [
    "how long does it take for FDNY people to arrive to an incident (considering 10 most frequent incident type)"
   ]
  },
  {
   "cell_type": "code",
   "execution_count": 21,
   "metadata": {},
   "outputs": [
    {
     "data": {
      "text/plain": [
       "[Text(0,0,'300 - Rescue, EMS incident, other'),\n",
       " Text(0,0,'651 - Smoke scare, odor of smoke'),\n",
       " Text(0,0,'353 - Removal of victim(s) from stalled elevator'),\n",
       " Text(0,0,'710 - Malicious, mischievous false call, other'),\n",
       " Text(0,0,'522 - Water or steam leak'),\n",
       " Text(0,0,'412 - Gas leak (natural gas or LPG)'),\n",
       " Text(0,0,'735A - Unwarranted alarm/defective condition of alarm system'),\n",
       " Text(0,0,'113 - Cooking fire, confined to container'),\n",
       " Text(0,0,'555 - Defective elevator, no occupants'),\n",
       " Text(0,0,'736 - CO detector activation due to malfunction')]"
      ]
     },
     "execution_count": 21,
     "metadata": {},
     "output_type": "execute_result"
    },
    {
     "data": {
      "image/png": "[encoded data removed]",
      "text/plain": [
       "<Figure size 864x576 with 1 Axes>"
      ]
     },
     "metadata": {},
     "output_type": "display_data"
    }
   ],
   "source": [
    "plt.figure(figsize=(12,8))\n",
    "g = sns.boxplot(x=\"INCIDENT_TYPE_DESC\", y=minutes, data=df,palette='rainbow', \n",
    "            order=df.INCIDENT_TYPE_DESC.value_counts().iloc[:10].index)\n",
    "g.set(yscale=\"log\")\n",
    "g.set_xticklabels(g.get_xticklabels(), rotation=90)"
   ]
  },
  {
   "cell_type": "markdown",
   "metadata": {},
   "source": [
    "Let's explore the column HIGHEST_LEVEL_DESC"
   ]
  },
  {
   "cell_type": "code",
   "execution_count": 41,
   "metadata": {},
   "outputs": [
    {
     "data": {
      "text/plain": [
       "1 - More than initial alarm, less than Signal 7-5    2262663\n",
       "7 - Signal 7-5                                         10886\n",
       "0 - Initial alarm                                       3115\n",
       "2 - 2nd alarm                                            713\n",
       "3 - 3rd alarm                                            150\n",
       "4 - 4th alarm                                             52\n",
       "5 - 5th alarm                                             48\n",
       "Name: HIGHEST_LEVEL_DESC, dtype: int64"
      ]
     },
     "execution_count": 41,
     "metadata": {},
     "output_type": "execute_result"
    }
   ],
   "source": [
    "df.HIGHEST_LEVEL_DESC.value_counts()"
   ]
  },
  {
   "cell_type": "markdown",
   "metadata": {},
   "source": [
    "The highest level description \"1\" is a lot more frequent than other levels"
   ]
  },
  {
   "cell_type": "code",
   "execution_count": 24,
   "metadata": {},
   "outputs": [
    {
     "data": {
      "text/plain": [
       "00 - Action taken, other                                   1145485\n",
       "86 - Investigate                                            266992\n",
       "64 - Shut down system                                       202224\n",
       "11 - Extinguishment by fire service personnel               147123\n",
       "44 - Hazardous materials leak control & containment         100694\n",
       "45 - Remove hazard                                           84880\n",
       "70 - Assistance, other                                       52878\n",
       "31 - Provide first aid & check for injuries                  41937\n",
       "82 - Notify other agencies.                                  36357\n",
       "48 - Remove hazardous materials                              27045\n",
       "93 - Cancelled en route                                      23114\n",
       "21 - Search                                                  20757\n",
       "302 - Provide Patient Care                                   18895\n",
       "42 - HazMat detection, monitoring, sampling, & analysis      17666\n",
       "53 - Evacuate area                                           17527\n",
       "55 - Establish safe area                                     13193\n",
       "10 - Fire control or extinguishment, other                    9823\n",
       "52 - Forcible entry                                           7493\n",
       "81 - Incident command                                         5081\n",
       "22 - Rescue, remove from harm                                 4841\n",
       "43 - Hazardous materials spill control and confinement        3566\n",
       "73 - Provide manpower                                         2912\n",
       "23 - Extricate, disentangle                                   2482\n",
       "51 - Ventilate                                                2461\n",
       "303 - Carry Down/assist EMS                                   1766\n",
       "301 - Operated /Assigned  C.F.R.-D Engine                     1663\n",
       "40 - Hazardous condition, other                               1568\n",
       "215 - Check for extension                                     1525\n",
       "84 - Refer to proper authority                                1518\n",
       "80 - Information, investigation & enforcement, other          1225\n",
       "                                                            ...   \n",
       "58 - Operate apparatus or vehicle                               80\n",
       "83 - Provide information to public or media                     77\n",
       "34 - Transport person                                           75\n",
       "54 - Determine if materials are non-hazardous                   74\n",
       "77 - Control crowd                                              72\n",
       "24 - Recover body                                               53\n",
       "47 - Decontaminate occupancy or area                            49\n",
       "113 - Stretch 2 1/2  line, extinguish fire                      36\n",
       "113 - Stretch 2 1/2\" line, extinguish fire                      31\n",
       "61 - Restore municipal services                                 28\n",
       "501 - Operated as Watchline Company                             26\n",
       "91 - Fill-in or moveup                                          25\n",
       "201 - Operated/Assigned as Fast Unit                            23\n",
       "79 - Assess severe weather or natural disaster damage           22\n",
       "812 - Assigned sector commander                                 22\n",
       "46 - Decontaminate persons or equipment                         20\n",
       "212 - Performed secondary search, fire area                     14\n",
       "56 - Provide air supply                                          9\n",
       "214 - Performed secondary search                                 7\n",
       "811 - Assigned All Hands Chief                                   6\n",
       "114 - Assisted engine company with stretching handline           6\n",
       "14 - Contain fire (wildland)                                     3\n",
       "118 - Supplied Standpipe System                                  2\n",
       "33 - Provide advanced life support (ALS)                         2\n",
       "116 - Supplied 3 1/2  line to tower ladder                       2\n",
       "13 - Establish fire lines (wildfire)                             2\n",
       "57 - Provide light or electrical power                           1\n",
       "17 - Manage prescribed fire (wildland)                           1\n",
       "16 - Control fire (wildland)                                     1\n",
       "15 - Confine fire (wildland)                                     1\n",
       "Name: ACTION_TAKEN1_DESC, Length: 88, dtype: int64"
      ]
     },
     "execution_count": 24,
     "metadata": {},
     "output_type": "execute_result"
    }
   ],
   "source": [
    "df.ACTION_TAKEN1_DESC.value_counts()"
   ]
  },
  {
   "cell_type": "code",
   "execution_count": 25,
   "metadata": {},
   "outputs": [
    {
     "data": {
      "text/plain": [
       "867"
      ]
     },
     "execution_count": 25,
     "metadata": {},
     "output_type": "execute_result"
    }
   ],
   "source": [
    "df.loc[df.ACTION_TAKEN1_DESC == \"00 - Action taken, other\", \"ACTION_TAKEN3_DESC\"].value_counts().sum()"
   ]
  },
  {
   "cell_type": "code",
   "execution_count": 26,
   "metadata": {},
   "outputs": [
    {
     "data": {
      "text/plain": [
       "3197"
      ]
     },
     "execution_count": 26,
     "metadata": {},
     "output_type": "execute_result"
    }
   ],
   "source": [
    "df.loc[df.ACTION_TAKEN1_DESC == \"00 - Action taken, other\", \"ACTION_TAKEN2_DESC\"].value_counts().sum()"
   ]
  },
  {
   "cell_type": "markdown",
   "metadata": {},
   "source": [
    "Not much info about what action is taken. Only for a few instances, there is more description on what action is taken. For the rest, not much information is provided."
   ]
  },
  {
   "cell_type": "code",
   "execution_count": 120,
   "metadata": {},
   "outputs": [
    {
     "data": {
      "text/plain": [
       "UUU - Undetermined                                        1319239\n",
       "429 - Multifamily dwelling                                 445467\n",
       "419 - 1 or 2 family dwelling                               121051\n",
       "962 - Residential street, road or residential driveway      93690\n",
       "960 - Street, other                                         91813\n",
       "961 - Highway or divided highway                            40390\n",
       "963 - Street or road in commercial area                     32178\n",
       "500 - Mercantile, business, other                           20965\n",
       "400 - Residential, other                                    13714\n",
       "599 - Business office                                       13237\n",
       "Name: PROPERTY_USE_DESC, dtype: int64"
      ]
     },
     "execution_count": 120,
     "metadata": {},
     "output_type": "execute_result"
    }
   ],
   "source": [
    "df_class.PROPERTY_USE_DESC.value_counts()[0:10]"
   ]
  },
  {
   "cell_type": "markdown",
   "metadata": {},
   "source": [
    "Let's explore UNITS_ONSCENE column"
   ]
  },
  {
   "cell_type": "code",
   "execution_count": 35,
   "metadata": {},
   "outputs": [
    {
     "data": {
      "text/plain": [
       "1.0      1324241\n",
       "2.0       276217\n",
       "3.0       193219\n",
       "5.0       144934\n",
       "6.0       136966\n",
       "4.0       122910\n",
       "7.0        10255\n",
       "8.0         2698\n",
       "11.0        1795\n",
       "9.0         1764\n",
       "12.0        1617\n",
       "10.0        1605\n",
       "13.0        1173\n",
       "14.0         729\n",
       "15.0         333\n",
       "16.0         231\n",
       "17.0         204\n",
       "18.0         179\n",
       "19.0         146\n",
       "20.0         125\n",
       "21.0         112\n",
       "24.0          96\n",
       "22.0          94\n",
       "23.0          84\n",
       "26.0          76\n",
       "25.0          70\n",
       "27.0          51\n",
       "28.0          40\n",
       "29.0          38\n",
       "30.0          37\n",
       "          ...   \n",
       "90.0           3\n",
       "60.0           3\n",
       "61.0           3\n",
       "67.0           2\n",
       "84.0           2\n",
       "83.0           2\n",
       "80.0           2\n",
       "77.0           2\n",
       "56.0           2\n",
       "55.0           2\n",
       "111.0          2\n",
       "64.0           2\n",
       "87.0           2\n",
       "58.0           2\n",
       "148.0          1\n",
       "149.0          1\n",
       "104.0          1\n",
       "126.0          1\n",
       "99.0           1\n",
       "105.0          1\n",
       "69.0           1\n",
       "86.0           1\n",
       "85.0           1\n",
       "74.0           1\n",
       "68.0           1\n",
       "66.0           1\n",
       "57.0           1\n",
       "207.0          1\n",
       "151.0          1\n",
       "168.0          1\n",
       "Name: UNITS_ONSCENE, Length: 86, dtype: int64"
      ]
     },
     "execution_count": 35,
     "metadata": {},
     "output_type": "execute_result"
    }
   ],
   "source": [
    "df.UNITS_ONSCENE.value_counts()"
   ]
  },
  {
   "cell_type": "markdown",
   "metadata": {},
   "source": [
    "one unit is the most frequent one."
   ]
  },
  {
   "cell_type": "markdown",
   "metadata": {},
   "source": [
    "Let's see for which incidents, FDNY has sent more than 100 units."
   ]
  },
  {
   "cell_type": "code",
   "execution_count": 47,
   "metadata": {},
   "outputs": [
    {
     "data": {
      "text/plain": [
       "492107     461 - Building or structure weakened or collapsed\n",
       "500838                                     100 - Fire, other\n",
       "884824                      651 - Smoke scare, odor of smoke\n",
       "892902                                     100 - Fire, other\n",
       "960053                                   111 - Building fire\n",
       "1215800                                  111 - Building fire\n",
       "1377706                    300 - Rescue, EMS incident, other\n",
       "1727392                                  111 - Building fire\n",
       "2120585                                  111 - Building fire\n",
       "2219968                                  111 - Building fire\n",
       "Name: INCIDENT_TYPE_DESC, dtype: object"
      ]
     },
     "execution_count": 47,
     "metadata": {},
     "output_type": "execute_result"
    }
   ],
   "source": [
    "df.loc[df.UNITS_ONSCENE >= 100, \"INCIDENT_TYPE_DESC\"]"
   ]
  },
  {
   "cell_type": "markdown",
   "metadata": {},
   "source": [
    "And what was the HIGHEST_LEVEL_DESC for these incidents?"
   ]
  },
  {
   "cell_type": "code",
   "execution_count": 44,
   "metadata": {},
   "outputs": [
    {
     "data": {
      "text/plain": [
       "492107                                         5 - 5th alarm\n",
       "500838                                         4 - 4th alarm\n",
       "884824                                         5 - 5th alarm\n",
       "892902     1 - More than initial alarm, less than Signal 7-5\n",
       "960053                                         5 - 5th alarm\n",
       "1215800                                        5 - 5th alarm\n",
       "1377706                                        4 - 4th alarm\n",
       "1727392                                        5 - 5th alarm\n",
       "2120585                                        5 - 5th alarm\n",
       "2219968                                        5 - 5th alarm\n",
       "Name: HIGHEST_LEVEL_DESC, dtype: object"
      ]
     },
     "execution_count": 44,
     "metadata": {},
     "output_type": "execute_result"
    }
   ],
   "source": [
    "df.loc[df.UNITS_ONSCENE >= 100, \"HIGHEST_LEVEL_DESC\"]"
   ]
  },
  {
   "cell_type": "markdown",
   "metadata": {},
   "source": [
    "Only for 10 incidents, the number of units on scene has exceeded 100, and for most of them the highest level description is 5th or 4th alarm."
   ]
  },
  {
   "cell_type": "code",
   "execution_count": null,
   "metadata": {},
   "outputs": [],
   "source": []
  },
  {
   "cell_type": "code",
   "execution_count": 11,
   "metadata": {},
   "outputs": [
    {
     "data": {
      "text/plain": [
       "00 - Action taken, other                                   1145485\n",
       "86 - Investigate                                            266992\n",
       "64 - Shut down system                                       202224\n",
       "11 - Extinguishment by fire service personnel               147123\n",
       "44 - Hazardous materials leak control & containment         100694\n",
       "45 - Remove hazard                                           84880\n",
       "70 - Assistance, other                                       52878\n",
       "31 - Provide first aid & check for injuries                  41937\n",
       "82 - Notify other agencies.                                  36357\n",
       "48 - Remove hazardous materials                              27045\n",
       "93 - Cancelled en route                                      23114\n",
       "21 - Search                                                  20757\n",
       "302 - Provide Patient Care                                   18895\n",
       "42 - HazMat detection, monitoring, sampling, & analysis      17666\n",
       "53 - Evacuate area                                           17527\n",
       "55 - Establish safe area                                     13193\n",
       "10 - Fire control or extinguishment, other                    9823\n",
       "52 - Forcible entry                                           7493\n",
       "81 - Incident command                                         5081\n",
       "22 - Rescue, remove from harm                                 4841\n",
       "43 - Hazardous materials spill control and confinement        3566\n",
       "73 - Provide manpower                                         2912\n",
       "23 - Extricate, disentangle                                   2482\n",
       "51 - Ventilate                                                2461\n",
       "303 - Carry Down/assist EMS                                   1766\n",
       "301 - Operated /Assigned  C.F.R.-D Engine                     1663\n",
       "40 - Hazardous condition, other                               1568\n",
       "215 - Check for extension                                     1525\n",
       "84 - Refer to proper authority                                1518\n",
       "80 - Information, investigation & enforcement, other          1225\n",
       "                                                            ...   \n",
       "58 - Operate apparatus or vehicle                               80\n",
       "83 - Provide information to public or media                     77\n",
       "34 - Transport person                                           75\n",
       "54 - Determine if materials are non-hazardous                   74\n",
       "77 - Control crowd                                              72\n",
       "24 - Recover body                                               53\n",
       "47 - Decontaminate occupancy or area                            49\n",
       "113 - Stretch 2 1/2  line, extinguish fire                      36\n",
       "113 - Stretch 2 1/2\" line, extinguish fire                      31\n",
       "61 - Restore municipal services                                 28\n",
       "501 - Operated as Watchline Company                             26\n",
       "91 - Fill-in or moveup                                          25\n",
       "201 - Operated/Assigned as Fast Unit                            23\n",
       "79 - Assess severe weather or natural disaster damage           22\n",
       "812 - Assigned sector commander                                 22\n",
       "46 - Decontaminate persons or equipment                         20\n",
       "212 - Performed secondary search, fire area                     14\n",
       "56 - Provide air supply                                          9\n",
       "214 - Performed secondary search                                 7\n",
       "811 - Assigned All Hands Chief                                   6\n",
       "114 - Assisted engine company with stretching handline           6\n",
       "14 - Contain fire (wildland)                                     3\n",
       "13 - Establish fire lines (wildfire)                             2\n",
       "33 - Provide advanced life support (ALS)                         2\n",
       "116 - Supplied 3 1/2  line to tower ladder                       2\n",
       "118 - Supplied Standpipe System                                  2\n",
       "16 - Control fire (wildland)                                     1\n",
       "57 - Provide light or electrical power                           1\n",
       "17 - Manage prescribed fire (wildland)                           1\n",
       "15 - Confine fire (wildland)                                     1\n",
       "Name: ACTION_TAKEN1_DESC, Length: 88, dtype: int64"
      ]
     },
     "execution_count": 11,
     "metadata": {},
     "output_type": "execute_result"
    }
   ],
   "source": [
    "df.ACTION_TAKEN1_DESC.value_counts()"
   ]
  },
  {
   "cell_type": "code",
   "execution_count": 18,
   "metadata": {},
   "outputs": [
    {
     "data": {
      "text/plain": [
       "<matplotlib.axes._subplots.AxesSubplot at 0x1a5f15a320>"
      ]
     },
     "execution_count": 18,
     "metadata": {},
     "output_type": "execute_result"
    },
    {
     "data": {
      "image/png": "[encoded data removed]",
      "text/plain": [
       "<Figure size 432x288 with 1 Axes>"
      ]
     },
     "metadata": {},
     "output_type": "display_data"
    }
   ],
   "source": [
    "sns.countplot(df.loc[df.ACTION_TAKEN1_DESC == \"52 - Forcible entry\", \"BOROUGH_DESC\"])"
   ]
  },
  {
   "cell_type": "code",
   "execution_count": 54,
   "metadata": {},
   "outputs": [
    {
     "data": {
      "text/plain": [
       "611 - Dispatched & canceled en route               23107\n",
       "721 - Bomb scare - no bomb                             5\n",
       "800 - Severe weather or natural disaster, other        2\n",
       "Name: INCIDENT_TYPE_DESC, dtype: int64"
      ]
     },
     "execution_count": 54,
     "metadata": {},
     "output_type": "execute_result"
    }
   ],
   "source": [
    "df.loc[df.ACTION_TAKEN1_DESC == \"93 - Cancelled en route\", \"INCIDENT_TYPE_DESC\"].value_counts()"
   ]
  },
  {
   "cell_type": "code",
   "execution_count": 56,
   "metadata": {},
   "outputs": [
    {
     "data": {
      "text/plain": [
       "200 - Overpressure rupture, explosion, overheat other    12201\n",
       "112 - Fires in structure other than in a building         5066\n",
       "100 - Fire, other                                           21\n",
       "400 - Hazardous condition, other                            18\n",
       "445 - Arcing, shorted electrical equipment                  18\n",
       "440 - Electrical  wiring/equipment problem, other           17\n",
       "353 - Removal of victim(s) from stalled elevator            13\n",
       "600 - Good intent call, other                               13\n",
       "721 - Bomb scare - no bomb                                  12\n",
       "461 - Building or structure weakened or collapsed           12\n",
       "Name: INCIDENT_TYPE_DESC, dtype: int64"
      ]
     },
     "execution_count": 56,
     "metadata": {},
     "output_type": "execute_result"
    }
   ],
   "source": [
    "df.loc[df.ACTION_TAKEN1_DESC == \"53 - Evacuate area\", \"INCIDENT_TYPE_DESC\"].value_counts()[0:10]"
   ]
  },
  {
   "cell_type": "code",
   "execution_count": 67,
   "metadata": {},
   "outputs": [],
   "source": [
    "action_borough = df.groupby([\"BOROUGH_DESC\", df.loc[df.ACTION_TAKEN1_DESC.isin([\"93 - Cancelled en route\", \"53 - Evacuate area\",\n",
    "                                               \"52 - Forcible entry\"]), \"ACTION_TAKEN1_DESC\"]]).count()[\"FIRE_BOX\"].unstack()"
   ]
  },
  {
   "cell_type": "code",
   "execution_count": 68,
   "metadata": {},
   "outputs": [
    {
     "data": {
      "text/html": [
       "<div>\n",
       "<style scoped>\n",
       "    .dataframe tbody tr th:only-of-type {\n",
       "        vertical-align: middle;\n",
       "    }\n",
       "\n",
       "    .dataframe tbody tr th {\n",
       "        vertical-align: top;\n",
       "    }\n",
       "\n",
       "    .dataframe thead th {\n",
       "        text-align: right;\n",
       "    }\n",
       "</style>\n",
       "<table border=\"1\" class=\"dataframe\">\n",
       "  <thead>\n",
       "    <tr style=\"text-align: right;\">\n",
       "      <th>ACTION_TAKEN1_DESC</th>\n",
       "      <th>52 - Forcible entry</th>\n",
       "      <th>53 - Evacuate area</th>\n",
       "      <th>93 - Cancelled en route</th>\n",
       "    </tr>\n",
       "    <tr>\n",
       "      <th>BOROUGH_DESC</th>\n",
       "      <th></th>\n",
       "      <th></th>\n",
       "      <th></th>\n",
       "    </tr>\n",
       "  </thead>\n",
       "  <tbody>\n",
       "    <tr>\n",
       "      <th>1 - Manhattan</th>\n",
       "      <td>1783</td>\n",
       "      <td>4149</td>\n",
       "      <td>5441</td>\n",
       "    </tr>\n",
       "    <tr>\n",
       "      <th>2 - Bronx</th>\n",
       "      <td>2460</td>\n",
       "      <td>1892</td>\n",
       "      <td>5068</td>\n",
       "    </tr>\n",
       "    <tr>\n",
       "      <th>3 - Staten Island</th>\n",
       "      <td>208</td>\n",
       "      <td>93</td>\n",
       "      <td>1171</td>\n",
       "    </tr>\n",
       "    <tr>\n",
       "      <th>4 - Brooklyn</th>\n",
       "      <td>1973</td>\n",
       "      <td>6916</td>\n",
       "      <td>7237</td>\n",
       "    </tr>\n",
       "    <tr>\n",
       "      <th>5 - Queens</th>\n",
       "      <td>1069</td>\n",
       "      <td>4475</td>\n",
       "      <td>4197</td>\n",
       "    </tr>\n",
       "  </tbody>\n",
       "</table>\n",
       "</div>"
      ],
      "text/plain": [
       "ACTION_TAKEN1_DESC  52 - Forcible entry  53 - Evacuate area  \\\n",
       "BOROUGH_DESC                                                  \n",
       "1 - Manhattan                      1783                4149   \n",
       "2 - Bronx                          2460                1892   \n",
       "3 - Staten Island                   208                  93   \n",
       "4 - Brooklyn                       1973                6916   \n",
       "5 - Queens                         1069                4475   \n",
       "\n",
       "ACTION_TAKEN1_DESC  93 - Cancelled en route  \n",
       "BOROUGH_DESC                                 \n",
       "1 - Manhattan                          5441  \n",
       "2 - Bronx                              5068  \n",
       "3 - Staten Island                      1171  \n",
       "4 - Brooklyn                           7237  \n",
       "5 - Queens                             4197  "
      ]
     },
     "execution_count": 68,
     "metadata": {},
     "output_type": "execute_result"
    }
   ],
   "source": [
    "action_borough"
   ]
  },
  {
   "cell_type": "code",
   "execution_count": 70,
   "metadata": {
    "scrolled": true
   },
   "outputs": [
    {
     "data": {
      "text/plain": [
       "<matplotlib.legend.Legend at 0x1a130c8f28>"
      ]
     },
     "execution_count": 70,
     "metadata": {},
     "output_type": "execute_result"
    },
    {
     "data": {
      "image/png": "[encoded data removed]",
      "text/plain": [
       "<Figure size 432x288 with 1 Axes>"
      ]
     },
     "metadata": {},
     "output_type": "display_data"
    }
   ],
   "source": [
    "action_borough.plot(kind='bar', stacked=True)\n",
    "plt.legend(bbox_to_anchor=(1.04,1), loc=\"upper left\")"
   ]
  },
  {
   "cell_type": "code",
   "execution_count": 40,
   "metadata": {},
   "outputs": [
    {
     "data": {
      "text/html": [
       "<div>\n",
       "<style scoped>\n",
       "    .dataframe tbody tr th:only-of-type {\n",
       "        vertical-align: middle;\n",
       "    }\n",
       "\n",
       "    .dataframe tbody tr th {\n",
       "        vertical-align: top;\n",
       "    }\n",
       "\n",
       "    .dataframe thead th {\n",
       "        text-align: right;\n",
       "    }\n",
       "</style>\n",
       "<table border=\"1\" class=\"dataframe\">\n",
       "  <thead>\n",
       "    <tr style=\"text-align: right;\">\n",
       "      <th>BOROUGH_DESC</th>\n",
       "      <th>1 - Manhattan</th>\n",
       "      <th>2 - Bronx</th>\n",
       "      <th>3 - Staten Island</th>\n",
       "      <th>4 - Brooklyn</th>\n",
       "      <th>5 - Queens</th>\n",
       "    </tr>\n",
       "    <tr>\n",
       "      <th>INCIDENT_DATE_TIME</th>\n",
       "      <th></th>\n",
       "      <th></th>\n",
       "      <th></th>\n",
       "      <th></th>\n",
       "      <th></th>\n",
       "    </tr>\n",
       "  </thead>\n",
       "  <tbody>\n",
       "    <tr>\n",
       "      <th>2013.0</th>\n",
       "      <td>5233</td>\n",
       "      <td>5498</td>\n",
       "      <td>1710</td>\n",
       "      <td>5614</td>\n",
       "      <td>4788</td>\n",
       "    </tr>\n",
       "    <tr>\n",
       "      <th>2014.0</th>\n",
       "      <td>5360</td>\n",
       "      <td>5215</td>\n",
       "      <td>1640</td>\n",
       "      <td>5869</td>\n",
       "      <td>5088</td>\n",
       "    </tr>\n",
       "    <tr>\n",
       "      <th>2015.0</th>\n",
       "      <td>4986</td>\n",
       "      <td>5495</td>\n",
       "      <td>1842</td>\n",
       "      <td>6966</td>\n",
       "      <td>5167</td>\n",
       "    </tr>\n",
       "    <tr>\n",
       "      <th>2016.0</th>\n",
       "      <td>4997</td>\n",
       "      <td>5339</td>\n",
       "      <td>1641</td>\n",
       "      <td>6772</td>\n",
       "      <td>5318</td>\n",
       "    </tr>\n",
       "    <tr>\n",
       "      <th>2017.0</th>\n",
       "      <td>4664</td>\n",
       "      <td>4920</td>\n",
       "      <td>1443</td>\n",
       "      <td>6889</td>\n",
       "      <td>5410</td>\n",
       "    </tr>\n",
       "  </tbody>\n",
       "</table>\n",
       "</div>"
      ],
      "text/plain": [
       "BOROUGH_DESC        1 - Manhattan  2 - Bronx  3 - Staten Island  4 - Brooklyn  \\\n",
       "INCIDENT_DATE_TIME                                                              \n",
       "2013.0                       5233       5498               1710          5614   \n",
       "2014.0                       5360       5215               1640          5869   \n",
       "2015.0                       4986       5495               1842          6966   \n",
       "2016.0                       4997       5339               1641          6772   \n",
       "2017.0                       4664       4920               1443          6889   \n",
       "\n",
       "BOROUGH_DESC        5 - Queens  \n",
       "INCIDENT_DATE_TIME              \n",
       "2013.0                    4788  \n",
       "2014.0                    5088  \n",
       "2015.0                    5167  \n",
       "2016.0                    5318  \n",
       "2017.0                    5410  "
      ]
     },
     "execution_count": 40,
     "metadata": {},
     "output_type": "execute_result"
    }
   ],
   "source": [
    "df.groupby([df.loc[df.INCIDENT_TYPE_DESC == \"710 - Malicious, mischievous false call, other\", \n",
    "       \"INCIDENT_DATE_TIME\"].dt.year, \"BOROUGH_DESC\"]).count()[\"FIRE_BOX\"].unstack()"
   ]
  },
  {
   "cell_type": "code",
   "execution_count": 76,
   "metadata": {},
   "outputs": [
    {
     "data": {
      "text/plain": [
       "<matplotlib.axes._subplots.AxesSubplot at 0x1a2f44c7b8>"
      ]
     },
     "execution_count": 76,
     "metadata": {},
     "output_type": "execute_result"
    },
    {
     "data": {
      "image/png": "[encoded data removed]",
      "text/plain": [
       "<Figure size 432x288 with 2 Axes>"
      ]
     },
     "metadata": {},
     "output_type": "display_data"
    }
   ],
   "source": [
    "sns.heatmap(df.groupby([df.loc[df.INCIDENT_TYPE_DESC == \"710 - Malicious, mischievous false call, other\", \n",
    "       \"INCIDENT_DATE_TIME\"].dt.year.astype(str),\n",
    "                        \"BOROUGH_DESC\"]).count()[\"FIRE_BOX\"].unstack())"
   ]
  },
  {
   "cell_type": "markdown",
   "metadata": {},
   "source": [
    "Let's explore which incidents happen between midnight and 4 AM, and how many units are usually sent to the scene in each borough"
   ]
  },
  {
   "cell_type": "code",
   "execution_count": null,
   "metadata": {},
   "outputs": [],
   "source": []
  },
  {
   "cell_type": "code",
   "execution_count": 92,
   "metadata": {},
   "outputs": [],
   "source": [
    "hour_type = df.groupby([df.loc[(df.INCIDENT_DATE_TIME.dt.hour >= 0) & (df.INCIDENT_DATE_TIME.dt.hour <= 4), \n",
    "                  \"INCIDENT_DATE_TIME\"].dt.hour.astype(str),\n",
    "           df.loc[df.INCIDENT_TYPE_DESC.isin(df.INCIDENT_TYPE_DESC.value_counts().iloc[0:10].index), \n",
    "                  \"INCIDENT_TYPE_DESC\"]])"
   ]
  },
  {
   "cell_type": "code",
   "execution_count": 93,
   "metadata": {},
   "outputs": [
    {
     "data": {
      "text/html": [
       "<div>\n",
       "<style scoped>\n",
       "    .dataframe tbody tr th:only-of-type {\n",
       "        vertical-align: middle;\n",
       "    }\n",
       "\n",
       "    .dataframe tbody tr th {\n",
       "        vertical-align: top;\n",
       "    }\n",
       "\n",
       "    .dataframe thead th {\n",
       "        text-align: right;\n",
       "    }\n",
       "</style>\n",
       "<table border=\"1\" class=\"dataframe\">\n",
       "  <thead>\n",
       "    <tr style=\"text-align: right;\">\n",
       "      <th>INCIDENT_TYPE_DESC</th>\n",
       "      <th>113 - Cooking fire, confined to container</th>\n",
       "      <th>300 - Rescue, EMS incident, other</th>\n",
       "      <th>353 - Removal of victim(s) from stalled elevator</th>\n",
       "      <th>412 - Gas leak (natural gas or LPG)</th>\n",
       "      <th>522 - Water or steam leak</th>\n",
       "      <th>555 - Defective elevator, no occupants</th>\n",
       "      <th>651 - Smoke scare, odor of smoke</th>\n",
       "      <th>710 - Malicious, mischievous false call, other</th>\n",
       "      <th>735A - Unwarranted alarm/defective condition of alarm system</th>\n",
       "      <th>736 - CO detector activation due to malfunction</th>\n",
       "    </tr>\n",
       "    <tr>\n",
       "      <th>INCIDENT_DATE_TIME</th>\n",
       "      <th></th>\n",
       "      <th></th>\n",
       "      <th></th>\n",
       "      <th></th>\n",
       "      <th></th>\n",
       "      <th></th>\n",
       "      <th></th>\n",
       "      <th></th>\n",
       "      <th></th>\n",
       "      <th></th>\n",
       "    </tr>\n",
       "  </thead>\n",
       "  <tbody>\n",
       "    <tr>\n",
       "      <th>0</th>\n",
       "      <td>6</td>\n",
       "      <td>1</td>\n",
       "      <td>1</td>\n",
       "      <td>5</td>\n",
       "      <td>1</td>\n",
       "      <td>1</td>\n",
       "      <td>5</td>\n",
       "      <td>1</td>\n",
       "      <td>3</td>\n",
       "      <td>2</td>\n",
       "    </tr>\n",
       "    <tr>\n",
       "      <th>1</th>\n",
       "      <td>6</td>\n",
       "      <td>1</td>\n",
       "      <td>1</td>\n",
       "      <td>5</td>\n",
       "      <td>1</td>\n",
       "      <td>1</td>\n",
       "      <td>5</td>\n",
       "      <td>1</td>\n",
       "      <td>3</td>\n",
       "      <td>2</td>\n",
       "    </tr>\n",
       "    <tr>\n",
       "      <th>2</th>\n",
       "      <td>6</td>\n",
       "      <td>1</td>\n",
       "      <td>1</td>\n",
       "      <td>5</td>\n",
       "      <td>1</td>\n",
       "      <td>1</td>\n",
       "      <td>5</td>\n",
       "      <td>1</td>\n",
       "      <td>3</td>\n",
       "      <td>2</td>\n",
       "    </tr>\n",
       "    <tr>\n",
       "      <th>3</th>\n",
       "      <td>6</td>\n",
       "      <td>1</td>\n",
       "      <td>1</td>\n",
       "      <td>5</td>\n",
       "      <td>1</td>\n",
       "      <td>1</td>\n",
       "      <td>5</td>\n",
       "      <td>1</td>\n",
       "      <td>3</td>\n",
       "      <td>2</td>\n",
       "    </tr>\n",
       "    <tr>\n",
       "      <th>4</th>\n",
       "      <td>6</td>\n",
       "      <td>1</td>\n",
       "      <td>1</td>\n",
       "      <td>5</td>\n",
       "      <td>1</td>\n",
       "      <td>1</td>\n",
       "      <td>5</td>\n",
       "      <td>1</td>\n",
       "      <td>3</td>\n",
       "      <td>2</td>\n",
       "    </tr>\n",
       "  </tbody>\n",
       "</table>\n",
       "</div>"
      ],
      "text/plain": [
       "INCIDENT_TYPE_DESC  113 - Cooking fire, confined to container  \\\n",
       "INCIDENT_DATE_TIME                                              \n",
       "0                                                           6   \n",
       "1                                                           6   \n",
       "2                                                           6   \n",
       "3                                                           6   \n",
       "4                                                           6   \n",
       "\n",
       "INCIDENT_TYPE_DESC  300 - Rescue, EMS incident, other  \\\n",
       "INCIDENT_DATE_TIME                                      \n",
       "0                                                   1   \n",
       "1                                                   1   \n",
       "2                                                   1   \n",
       "3                                                   1   \n",
       "4                                                   1   \n",
       "\n",
       "INCIDENT_TYPE_DESC  353 - Removal of victim(s) from stalled elevator  \\\n",
       "INCIDENT_DATE_TIME                                                     \n",
       "0                                                                  1   \n",
       "1                                                                  1   \n",
       "2                                                                  1   \n",
       "3                                                                  1   \n",
       "4                                                                  1   \n",
       "\n",
       "INCIDENT_TYPE_DESC  412 - Gas leak (natural gas or LPG)  \\\n",
       "INCIDENT_DATE_TIME                                        \n",
       "0                                                     5   \n",
       "1                                                     5   \n",
       "2                                                     5   \n",
       "3                                                     5   \n",
       "4                                                     5   \n",
       "\n",
       "INCIDENT_TYPE_DESC  522 - Water or steam leak  \\\n",
       "INCIDENT_DATE_TIME                              \n",
       "0                                           1   \n",
       "1                                           1   \n",
       "2                                           1   \n",
       "3                                           1   \n",
       "4                                           1   \n",
       "\n",
       "INCIDENT_TYPE_DESC  555 - Defective elevator, no occupants  \\\n",
       "INCIDENT_DATE_TIME                                           \n",
       "0                                                        1   \n",
       "1                                                        1   \n",
       "2                                                        1   \n",
       "3                                                        1   \n",
       "4                                                        1   \n",
       "\n",
       "INCIDENT_TYPE_DESC  651 - Smoke scare, odor of smoke  \\\n",
       "INCIDENT_DATE_TIME                                     \n",
       "0                                                  5   \n",
       "1                                                  5   \n",
       "2                                                  5   \n",
       "3                                                  5   \n",
       "4                                                  5   \n",
       "\n",
       "INCIDENT_TYPE_DESC  710 - Malicious, mischievous false call, other  \\\n",
       "INCIDENT_DATE_TIME                                                   \n",
       "0                                                                1   \n",
       "1                                                                1   \n",
       "2                                                                1   \n",
       "3                                                                1   \n",
       "4                                                                1   \n",
       "\n",
       "INCIDENT_TYPE_DESC  735A - Unwarranted alarm/defective condition of alarm system  \\\n",
       "INCIDENT_DATE_TIME                                                                 \n",
       "0                                                                   3              \n",
       "1                                                                   3              \n",
       "2                                                                   3              \n",
       "3                                                                   3              \n",
       "4                                                                   3              \n",
       "\n",
       "INCIDENT_TYPE_DESC  736 - CO detector activation due to malfunction  \n",
       "INCIDENT_DATE_TIME                                                   \n",
       "0                                                                 2  \n",
       "1                                                                 2  \n",
       "2                                                                 2  \n",
       "3                                                                 2  \n",
       "4                                                                 2  "
      ]
     },
     "execution_count": 93,
     "metadata": {},
     "output_type": "execute_result"
    }
   ],
   "source": [
    "hour_type[\"UNITS_ONSCENE\"].apply(lambda x: x.value_counts().index[0]).astype(int).unstack()"
   ]
  },
  {
   "cell_type": "code",
   "execution_count": 94,
   "metadata": {},
   "outputs": [
    {
     "data": {
      "text/plain": [
       "<matplotlib.axes._subplots.AxesSubplot at 0x1a4791a860>"
      ]
     },
     "execution_count": 94,
     "metadata": {},
     "output_type": "execute_result"
    },
    {
     "data": {
      "image/png": "[encoded data removed]",
      "text/plain": [
       "<Figure size 1008x576 with 2 Axes>"
      ]
     },
     "metadata": {},
     "output_type": "display_data"
    }
   ],
   "source": [
    "annot1 = hour_type[\"UNITS_ONSCENE\"].apply(lambda x: x.value_counts().index[0]).unstack().values.astype(int).astype(str)\n",
    "annot2 = hour_type[\"BOROUGH_DESC\"].apply(lambda x: x.value_counts().index[0].split(\"-\")[1]).unstack()\n",
    "annotation = np.core.defchararray.add(annot1, annot2)\n",
    "plt.figure(figsize = (14,8))\n",
    "sns.heatmap(hour_type.count()[\"FIRE_BOX\"].unstack(), cmap = \"coolwarm\", \n",
    "            annot = annotation, fmt = '', annot_kws={\"size\": 9})"
   ]
  },
  {
   "cell_type": "markdown",
   "metadata": {},
   "source": [
    "Let's detect outliers"
   ]
  },
  {
   "cell_type": "code",
   "execution_count": 156,
   "metadata": {},
   "outputs": [],
   "source": [
    "df_c = df.copy()\n",
    "df_c = df_c.loc[df_c.TOTAL_INCIDENT_DURATION.notna()]\n",
    "q1, q3= np.percentile(sorted(df_c.TOTAL_INCIDENT_DURATION),[25,75])\n",
    "iqr = q3 - q1\n",
    "lower_bound = q1 - (1.5 * iqr) \n",
    "upper_bound = q3 + (1.5 * iqr)"
   ]
  },
  {
   "cell_type": "code",
   "execution_count": 159,
   "metadata": {
    "scrolled": true
   },
   "outputs": [
    {
     "data": {
      "text/plain": [
       "IM_INCIDENT_KEY    205671\n",
       "dtype: int64"
      ]
     },
     "execution_count": 159,
     "metadata": {},
     "output_type": "execute_result"
    }
   ],
   "source": [
    "df_c.loc[df_c.TOTAL_INCIDENT_DURATION > upper_bound].count().head(1)"
   ]
  },
  {
   "cell_type": "markdown",
   "metadata": {},
   "source": [
    "__Is there any correlation between the time fdny arrives and the borough the incident has happened in?__"
   ]
  },
  {
   "cell_type": "code",
   "execution_count": 95,
   "metadata": {},
   "outputs": [],
   "source": [
    "df_copied = df.copy()"
   ]
  },
  {
   "cell_type": "code",
   "execution_count": 96,
   "metadata": {},
   "outputs": [
    {
     "data": {
      "text/plain": [
       "0"
      ]
     },
     "execution_count": 96,
     "metadata": {},
     "output_type": "execute_result"
    }
   ],
   "source": [
    "(minutes >= 60).isna().sum()"
   ]
  },
  {
   "cell_type": "code",
   "execution_count": 97,
   "metadata": {},
   "outputs": [],
   "source": [
    "df_copied[\"above60mArrival\"] = (minutes >= 60)"
   ]
  },
  {
   "cell_type": "code",
   "execution_count": 98,
   "metadata": {},
   "outputs": [
    {
     "data": {
      "text/plain": [
       "False    2277241\n",
       "True         525\n",
       "Name: above60mArrival, dtype: int64"
      ]
     },
     "execution_count": 98,
     "metadata": {},
     "output_type": "execute_result"
    }
   ],
   "source": [
    "df_copied.above60mArrival.value_counts()"
   ]
  },
  {
   "cell_type": "code",
   "execution_count": 99,
   "metadata": {},
   "outputs": [
    {
     "data": {
      "text/html": [
       "<div>\n",
       "<style scoped>\n",
       "    .dataframe tbody tr th:only-of-type {\n",
       "        vertical-align: middle;\n",
       "    }\n",
       "\n",
       "    .dataframe tbody tr th {\n",
       "        vertical-align: top;\n",
       "    }\n",
       "\n",
       "    .dataframe thead th {\n",
       "        text-align: right;\n",
       "    }\n",
       "</style>\n",
       "<table border=\"1\" class=\"dataframe\">\n",
       "  <thead>\n",
       "    <tr style=\"text-align: right;\">\n",
       "      <th>BOROUGH_DESC</th>\n",
       "      <th>1 - Manhattan</th>\n",
       "      <th>2 - Bronx</th>\n",
       "      <th>3 - Staten Island</th>\n",
       "      <th>4 - Brooklyn</th>\n",
       "      <th>5 - Queens</th>\n",
       "      <th>All</th>\n",
       "    </tr>\n",
       "    <tr>\n",
       "      <th>above60mArrival</th>\n",
       "      <th></th>\n",
       "      <th></th>\n",
       "      <th></th>\n",
       "      <th></th>\n",
       "      <th></th>\n",
       "      <th></th>\n",
       "    </tr>\n",
       "  </thead>\n",
       "  <tbody>\n",
       "    <tr>\n",
       "      <th>False</th>\n",
       "      <td>581969</td>\n",
       "      <td>456797</td>\n",
       "      <td>117479</td>\n",
       "      <td>661394</td>\n",
       "      <td>459602</td>\n",
       "      <td>2277241</td>\n",
       "    </tr>\n",
       "    <tr>\n",
       "      <th>True</th>\n",
       "      <td>163</td>\n",
       "      <td>92</td>\n",
       "      <td>28</td>\n",
       "      <td>98</td>\n",
       "      <td>144</td>\n",
       "      <td>525</td>\n",
       "    </tr>\n",
       "    <tr>\n",
       "      <th>All</th>\n",
       "      <td>582132</td>\n",
       "      <td>456889</td>\n",
       "      <td>117507</td>\n",
       "      <td>661492</td>\n",
       "      <td>459746</td>\n",
       "      <td>2277766</td>\n",
       "    </tr>\n",
       "  </tbody>\n",
       "</table>\n",
       "</div>"
      ],
      "text/plain": [
       "BOROUGH_DESC     1 - Manhattan  2 - Bronx  3 - Staten Island  4 - Brooklyn  \\\n",
       "above60mArrival                                                              \n",
       "False                   581969     456797             117479        661394   \n",
       "True                       163         92                 28            98   \n",
       "All                     582132     456889             117507        661492   \n",
       "\n",
       "BOROUGH_DESC     5 - Queens      All  \n",
       "above60mArrival                       \n",
       "False                459602  2277241  \n",
       "True                    144      525  \n",
       "All                  459746  2277766  "
      ]
     },
     "execution_count": 99,
     "metadata": {},
     "output_type": "execute_result"
    }
   ],
   "source": [
    "contingency_table = pd.crosstab(\n",
    "    df_copied[\"above60mArrival\"],\n",
    "    df_copied[\"BOROUGH_DESC\"],\n",
    "    margins = True\n",
    ")\n",
    "contingency_table"
   ]
  },
  {
   "cell_type": "code",
   "execution_count": 100,
   "metadata": {},
   "outputs": [
    {
     "data": {
      "text/plain": [
       "array([[581969, 456797, 117479, 661394, 459602],\n",
       "       [   163,     92,     28,     98,    144]])"
      ]
     },
     "execution_count": 100,
     "metadata": {},
     "output_type": "execute_result"
    }
   ],
   "source": [
    "f_obs = np.array([contingency_table.iloc[0][0:-1].values,\n",
    "                  contingency_table.iloc[1][0:-1].values])\n",
    "f_obs"
   ]
  },
  {
   "cell_type": "code",
   "execution_count": 102,
   "metadata": {},
   "outputs": [
    {
     "data": {
      "text/plain": [
       "(41.023205009472164, 2.6582570938804718e-08, 4)"
      ]
     },
     "execution_count": 102,
     "metadata": {},
     "output_type": "execute_result"
    }
   ],
   "source": [
    "from scipy import stats\n",
    "stats.chi2_contingency(f_obs)[0:3]"
   ]
  },
  {
   "cell_type": "markdown",
   "metadata": {},
   "source": [
    "__Is there any correlation between events that take more than 60 minutes and the presence or absence of CO detector?__"
   ]
  },
  {
   "cell_type": "code",
   "execution_count": 103,
   "metadata": {},
   "outputs": [],
   "source": [
    "df_copied[\"above60mEvents\"] = df_copied.TOTAL_INCIDENT_DURATION >= 3600"
   ]
  },
  {
   "cell_type": "code",
   "execution_count": 104,
   "metadata": {},
   "outputs": [
    {
     "data": {
      "text/plain": [
       "False    2170442\n",
       "True      107324\n",
       "Name: above60mEvents, dtype: int64"
      ]
     },
     "execution_count": 104,
     "metadata": {},
     "output_type": "execute_result"
    }
   ],
   "source": [
    "df_copied.above60mEvents.value_counts()"
   ]
  },
  {
   "cell_type": "code",
   "execution_count": 105,
   "metadata": {},
   "outputs": [
    {
     "data": {
      "text/html": [
       "<div>\n",
       "<style scoped>\n",
       "    .dataframe tbody tr th:only-of-type {\n",
       "        vertical-align: middle;\n",
       "    }\n",
       "\n",
       "    .dataframe tbody tr th {\n",
       "        vertical-align: top;\n",
       "    }\n",
       "\n",
       "    .dataframe thead th {\n",
       "        text-align: right;\n",
       "    }\n",
       "</style>\n",
       "<table border=\"1\" class=\"dataframe\">\n",
       "  <thead>\n",
       "    <tr style=\"text-align: right;\">\n",
       "      <th>CO_DETECTOR_PRESENT_DESC</th>\n",
       "      <th>No</th>\n",
       "      <th>Yes</th>\n",
       "      <th>All</th>\n",
       "    </tr>\n",
       "    <tr>\n",
       "      <th>above60mEvents</th>\n",
       "      <th></th>\n",
       "      <th></th>\n",
       "      <th></th>\n",
       "    </tr>\n",
       "  </thead>\n",
       "  <tbody>\n",
       "    <tr>\n",
       "      <th>False</th>\n",
       "      <td>4785</td>\n",
       "      <td>23196</td>\n",
       "      <td>27981</td>\n",
       "    </tr>\n",
       "    <tr>\n",
       "      <th>True</th>\n",
       "      <td>859</td>\n",
       "      <td>835</td>\n",
       "      <td>1694</td>\n",
       "    </tr>\n",
       "    <tr>\n",
       "      <th>All</th>\n",
       "      <td>5644</td>\n",
       "      <td>24031</td>\n",
       "      <td>29675</td>\n",
       "    </tr>\n",
       "  </tbody>\n",
       "</table>\n",
       "</div>"
      ],
      "text/plain": [
       "CO_DETECTOR_PRESENT_DESC    No    Yes    All\n",
       "above60mEvents                              \n",
       "False                     4785  23196  27981\n",
       "True                       859    835   1694\n",
       "All                       5644  24031  29675"
      ]
     },
     "execution_count": 105,
     "metadata": {},
     "output_type": "execute_result"
    }
   ],
   "source": [
    "contingency_table = pd.crosstab(\n",
    "    df_copied[\"above60mEvents\"],\n",
    "    df_copied[\"CO_DETECTOR_PRESENT_DESC\"],\n",
    "    margins = True\n",
    ")\n",
    "contingency_table"
   ]
  },
  {
   "cell_type": "code",
   "execution_count": 106,
   "metadata": {},
   "outputs": [
    {
     "data": {
      "text/plain": [
       "array([[ 4785, 23196],\n",
       "       [  859,   835]])"
      ]
     },
     "execution_count": 106,
     "metadata": {},
     "output_type": "execute_result"
    }
   ],
   "source": [
    "f_obs = np.array([contingency_table.iloc[0][0:2].values,\n",
    "                  contingency_table.iloc[1][0:2].values])\n",
    "f_obs"
   ]
  },
  {
   "cell_type": "code",
   "execution_count": 107,
   "metadata": {},
   "outputs": [
    {
     "data": {
      "text/plain": [
       "(1169.1529727007567, 3.085257737716545e-256, 1)"
      ]
     },
     "execution_count": 107,
     "metadata": {},
     "output_type": "execute_result"
    }
   ],
   "source": [
    "stats.chi2_contingency(f_obs)[0:3]"
   ]
  },
  {
   "cell_type": "markdown",
   "metadata": {},
   "source": [
    "We can reject the null hypothesis that the presence or absence of CO detectors does not affect how long an incident takes to be resolved"
   ]
  },
  {
   "cell_type": "markdown",
   "metadata": {},
   "source": [
    "__Classification__"
   ]
  },
  {
   "cell_type": "code",
   "execution_count": 108,
   "metadata": {},
   "outputs": [],
   "source": [
    "df_class = df.copy()"
   ]
  },
  {
   "cell_type": "code",
   "execution_count": 109,
   "metadata": {},
   "outputs": [],
   "source": [
    "df_class.loc[df_class.UNITS_ONSCENE == 1, \"c_label\"] = 1\n",
    "df_class.loc[(df_class.UNITS_ONSCENE >= 2) & (df_class.UNITS_ONSCENE <= 10) , \"c_label\"] = 2\n",
    "df_class.loc[(df_class.UNITS_ONSCENE > 10) , \"c_label\"] = 3"
   ]
  },
  {
   "cell_type": "code",
   "execution_count": 110,
   "metadata": {},
   "outputs": [
    {
     "data": {
      "text/plain": [
       "(2277766, 25)"
      ]
     },
     "execution_count": 110,
     "metadata": {},
     "output_type": "execute_result"
    }
   ],
   "source": [
    "df_class.shape"
   ]
  },
  {
   "cell_type": "code",
   "execution_count": 111,
   "metadata": {},
   "outputs": [
    {
     "data": {
      "text/plain": [
       "IM_INCIDENT_KEY                       0\n",
       "FIRE_BOX                              9\n",
       "INCIDENT_TYPE_DESC                    0\n",
       "INCIDENT_DATE_TIME                    0\n",
       "ARRIVAL_DATE_TIME                 55218\n",
       "UNITS_ONSCENE                     55412\n",
       "LAST_UNIT_CLEARED_DATE_TIME           2\n",
       "HIGHEST_LEVEL_DESC                  139\n",
       "TOTAL_INCIDENT_DURATION             136\n",
       "ACTION_TAKEN1_DESC                    0\n",
       "ACTION_TAKEN2_DESC              1797072\n",
       "ACTION_TAKEN3_DESC              2055715\n",
       "PROPERTY_USE_DESC                     6\n",
       "STREET_HIGHWAY                    38157\n",
       "ZIP_CODE                              8\n",
       "BOROUGH_DESC                          0\n",
       "FLOOR                           1790363\n",
       "CO_DETECTOR_PRESENT_DESC        2248091\n",
       "FIRE_ORIGIN_BELOW_GRADE_FLAG    2275857\n",
       "STORY_FIRE_ORIGIN_COUNT         2264648\n",
       "FIRE_SPREAD_DESC                2264649\n",
       "DETECTOR_PRESENCE_DESC          2264650\n",
       "AES_PRESENCE_DESC               2264650\n",
       "STANDPIPE_SYS_PRESENT_FLAG      2264646\n",
       "c_label                           55412\n",
       "dtype: int64"
      ]
     },
     "execution_count": 111,
     "metadata": {},
     "output_type": "execute_result"
    }
   ],
   "source": [
    "df_class.isna().sum()"
   ]
  },
  {
   "cell_type": "markdown",
   "metadata": {},
   "source": [
    "NaN values for Total incident duration can be filled with the difference between INCIDENT_DATE_TIME and LAST_UNIT_CLEARED_DATE_TIME. There are 2 NaNs for LAST_UNIT_CLEARED_DATE_TIME column. Let's see if INCIDENT_DATE_TIME is also missing at those indices."
   ]
  },
  {
   "cell_type": "code",
   "execution_count": 112,
   "metadata": {},
   "outputs": [
    {
     "data": {
      "text/html": [
       "<div>\n",
       "<style scoped>\n",
       "    .dataframe tbody tr th:only-of-type {\n",
       "        vertical-align: middle;\n",
       "    }\n",
       "\n",
       "    .dataframe tbody tr th {\n",
       "        vertical-align: top;\n",
       "    }\n",
       "\n",
       "    .dataframe thead th {\n",
       "        text-align: right;\n",
       "    }\n",
       "</style>\n",
       "<table border=\"1\" class=\"dataframe\">\n",
       "  <thead>\n",
       "    <tr style=\"text-align: right;\">\n",
       "      <th></th>\n",
       "      <th>IM_INCIDENT_KEY</th>\n",
       "      <th>FIRE_BOX</th>\n",
       "      <th>INCIDENT_TYPE_DESC</th>\n",
       "      <th>INCIDENT_DATE_TIME</th>\n",
       "      <th>ARRIVAL_DATE_TIME</th>\n",
       "      <th>UNITS_ONSCENE</th>\n",
       "      <th>LAST_UNIT_CLEARED_DATE_TIME</th>\n",
       "      <th>HIGHEST_LEVEL_DESC</th>\n",
       "      <th>TOTAL_INCIDENT_DURATION</th>\n",
       "      <th>ACTION_TAKEN1_DESC</th>\n",
       "      <th>...</th>\n",
       "      <th>BOROUGH_DESC</th>\n",
       "      <th>FLOOR</th>\n",
       "      <th>CO_DETECTOR_PRESENT_DESC</th>\n",
       "      <th>FIRE_ORIGIN_BELOW_GRADE_FLAG</th>\n",
       "      <th>STORY_FIRE_ORIGIN_COUNT</th>\n",
       "      <th>FIRE_SPREAD_DESC</th>\n",
       "      <th>DETECTOR_PRESENCE_DESC</th>\n",
       "      <th>AES_PRESENCE_DESC</th>\n",
       "      <th>STANDPIPE_SYS_PRESENT_FLAG</th>\n",
       "      <th>c_label</th>\n",
       "    </tr>\n",
       "  </thead>\n",
       "  <tbody>\n",
       "    <tr>\n",
       "      <th>2239941</th>\n",
       "      <td>62438552</td>\n",
       "      <td>4873</td>\n",
       "      <td>131 - Passenger vehicle fire</td>\n",
       "      <td>2017-12-03 21:35:04</td>\n",
       "      <td>2017-12-03 21:39:00</td>\n",
       "      <td>NaN</td>\n",
       "      <td>NaT</td>\n",
       "      <td>NaN</td>\n",
       "      <td>NaN</td>\n",
       "      <td>11 - Extinguishment by fire service personnel</td>\n",
       "      <td>...</td>\n",
       "      <td>5 - Queens</td>\n",
       "      <td>NaN</td>\n",
       "      <td>NaN</td>\n",
       "      <td>NaN</td>\n",
       "      <td>NaN</td>\n",
       "      <td>NaN</td>\n",
       "      <td>NaN</td>\n",
       "      <td>NaN</td>\n",
       "      <td>NaN</td>\n",
       "      <td>NaN</td>\n",
       "    </tr>\n",
       "    <tr>\n",
       "      <th>2239942</th>\n",
       "      <td>62438557</td>\n",
       "      <td>7404</td>\n",
       "      <td>131 - Passenger vehicle fire</td>\n",
       "      <td>2017-12-03 23:19:00</td>\n",
       "      <td>NaT</td>\n",
       "      <td>NaN</td>\n",
       "      <td>NaT</td>\n",
       "      <td>NaN</td>\n",
       "      <td>NaN</td>\n",
       "      <td>11 - Extinguishment by fire service personnel</td>\n",
       "      <td>...</td>\n",
       "      <td>5 - Queens</td>\n",
       "      <td>NaN</td>\n",
       "      <td>NaN</td>\n",
       "      <td>NaN</td>\n",
       "      <td>NaN</td>\n",
       "      <td>NaN</td>\n",
       "      <td>NaN</td>\n",
       "      <td>NaN</td>\n",
       "      <td>NaN</td>\n",
       "      <td>NaN</td>\n",
       "    </tr>\n",
       "  </tbody>\n",
       "</table>\n",
       "<p>2 rows × 25 columns</p>\n",
       "</div>"
      ],
      "text/plain": [
       "         IM_INCIDENT_KEY FIRE_BOX            INCIDENT_TYPE_DESC  \\\n",
       "2239941         62438552     4873  131 - Passenger vehicle fire   \n",
       "2239942         62438557     7404  131 - Passenger vehicle fire   \n",
       "\n",
       "         INCIDENT_DATE_TIME   ARRIVAL_DATE_TIME  UNITS_ONSCENE  \\\n",
       "2239941 2017-12-03 21:35:04 2017-12-03 21:39:00            NaN   \n",
       "2239942 2017-12-03 23:19:00                 NaT            NaN   \n",
       "\n",
       "        LAST_UNIT_CLEARED_DATE_TIME HIGHEST_LEVEL_DESC  \\\n",
       "2239941                         NaT                NaN   \n",
       "2239942                         NaT                NaN   \n",
       "\n",
       "         TOTAL_INCIDENT_DURATION  \\\n",
       "2239941                      NaN   \n",
       "2239942                      NaN   \n",
       "\n",
       "                                    ACTION_TAKEN1_DESC   ...    BOROUGH_DESC  \\\n",
       "2239941  11 - Extinguishment by fire service personnel   ...      5 - Queens   \n",
       "2239942  11 - Extinguishment by fire service personnel   ...      5 - Queens   \n",
       "\n",
       "        FLOOR CO_DETECTOR_PRESENT_DESC FIRE_ORIGIN_BELOW_GRADE_FLAG  \\\n",
       "2239941   NaN                      NaN                          NaN   \n",
       "2239942   NaN                      NaN                          NaN   \n",
       "\n",
       "        STORY_FIRE_ORIGIN_COUNT FIRE_SPREAD_DESC DETECTOR_PRESENCE_DESC  \\\n",
       "2239941                     NaN              NaN                    NaN   \n",
       "2239942                     NaN              NaN                    NaN   \n",
       "\n",
       "        AES_PRESENCE_DESC  STANDPIPE_SYS_PRESENT_FLAG  c_label  \n",
       "2239941               NaN                         NaN      NaN  \n",
       "2239942               NaN                         NaN      NaN  \n",
       "\n",
       "[2 rows x 25 columns]"
      ]
     },
     "execution_count": 112,
     "metadata": {},
     "output_type": "execute_result"
    }
   ],
   "source": [
    "df_class.loc[(df_class.TOTAL_INCIDENT_DURATION.isna()) &\n",
    "             (df_class.LAST_UNIT_CLEARED_DATE_TIME.isna())]"
   ]
  },
  {
   "cell_type": "code",
   "execution_count": 113,
   "metadata": {},
   "outputs": [],
   "source": [
    "df_class.drop([2239941, 2239942], inplace=True)"
   ]
  },
  {
   "cell_type": "code",
   "execution_count": 114,
   "metadata": {},
   "outputs": [],
   "source": [
    "def duration(date1, date2):\n",
    "    return (date2 - date1).astype('timedelta64[s]')"
   ]
  },
  {
   "cell_type": "code",
   "execution_count": 115,
   "metadata": {},
   "outputs": [],
   "source": [
    "df_class.loc[df.TOTAL_INCIDENT_DURATION.isna(), \"TOTAL_INCIDENT_DURATION\"] = duration(df_class.loc[df_class.TOTAL_INCIDENT_DURATION.isna(), \"INCIDENT_DATE_TIME\"], \n",
    "         df_class.loc[df_class.TOTAL_INCIDENT_DURATION.isna(), \"LAST_UNIT_CLEARED_DATE_TIME\"])"
   ]
  },
  {
   "cell_type": "code",
   "execution_count": 116,
   "metadata": {},
   "outputs": [
    {
     "data": {
      "text/plain": [
       "IM_INCIDENT_KEY                       0\n",
       "FIRE_BOX                              9\n",
       "INCIDENT_TYPE_DESC                    0\n",
       "INCIDENT_DATE_TIME                    0\n",
       "ARRIVAL_DATE_TIME                 55217\n",
       "UNITS_ONSCENE                     55410\n",
       "LAST_UNIT_CLEARED_DATE_TIME           0\n",
       "HIGHEST_LEVEL_DESC                  137\n",
       "TOTAL_INCIDENT_DURATION               0\n",
       "ACTION_TAKEN1_DESC                    0\n",
       "ACTION_TAKEN2_DESC              1797072\n",
       "ACTION_TAKEN3_DESC              2055713\n",
       "PROPERTY_USE_DESC                     6\n",
       "STREET_HIGHWAY                    38157\n",
       "ZIP_CODE                              6\n",
       "BOROUGH_DESC                          0\n",
       "FLOOR                           1790361\n",
       "CO_DETECTOR_PRESENT_DESC        2248089\n",
       "FIRE_ORIGIN_BELOW_GRADE_FLAG    2275855\n",
       "STORY_FIRE_ORIGIN_COUNT         2264646\n",
       "FIRE_SPREAD_DESC                2264647\n",
       "DETECTOR_PRESENCE_DESC          2264648\n",
       "AES_PRESENCE_DESC               2264648\n",
       "STANDPIPE_SYS_PRESENT_FLAG      2264644\n",
       "c_label                           55410\n",
       "dtype: int64"
      ]
     },
     "execution_count": 116,
     "metadata": {},
     "output_type": "execute_result"
    }
   ],
   "source": [
    "df_class.isna().sum()"
   ]
  },
  {
   "cell_type": "code",
   "execution_count": 124,
   "metadata": {},
   "outputs": [],
   "source": [
    "df_class[\"month\"] = df_class.INCIDENT_DATE_TIME.dt.month"
   ]
  },
  {
   "cell_type": "code",
   "execution_count": 125,
   "metadata": {},
   "outputs": [],
   "source": [
    "df_class.drop([\"STANDPIPE_SYS_PRESENT_FLAG\", \"AES_PRESENCE_DESC\", \"DETECTOR_PRESENCE_DESC\",\n",
    "              \"FIRE_SPREAD_DESC\", \"STORY_FIRE_ORIGIN_COUNT\", \"FIRE_ORIGIN_BELOW_GRADE_FLAG\",\n",
    "              \"CO_DETECTOR_PRESENT_DESC\", \"FLOOR\", \"ACTION_TAKEN3_DESC\", \"ACTION_TAKEN2_DESC\",\n",
    "              \"STREET_HIGHWAY\", \"ARRIVAL_DATE_TIME\", \"LAST_UNIT_CLEARED_DATE_TIME\", \n",
    "              \"IM_INCIDENT_KEY\", \"ZIP_CODE\", \"FIRE_BOX\", \n",
    "               \"PROPERTY_USE_DESC\", \"UNITS_ONSCENE\", \"ACTION_TAKEN1_DESC\",\n",
    "               \"TOTAL_INCIDENT_DURATION\", \"INCIDENT_DATE_TIME\"],\n",
    "             axis = 1, inplace=True)"
   ]
  },
  {
   "cell_type": "code",
   "execution_count": 126,
   "metadata": {},
   "outputs": [
    {
     "data": {
      "text/plain": [
       "INCIDENT_TYPE_DESC        0\n",
       "HIGHEST_LEVEL_DESC      137\n",
       "BOROUGH_DESC              0\n",
       "c_label               55410\n",
       "month                     0\n",
       "dtype: int64"
      ]
     },
     "execution_count": 126,
     "metadata": {},
     "output_type": "execute_result"
    }
   ],
   "source": [
    "df_class.isna().sum()"
   ]
  },
  {
   "cell_type": "code",
   "execution_count": 127,
   "metadata": {},
   "outputs": [],
   "source": [
    "df_class = df_class.loc[df_class.HIGHEST_LEVEL_DESC.notna()]\n",
    "df_class = df_class.loc[df_class.c_label.notna()]"
   ]
  },
  {
   "cell_type": "code",
   "execution_count": 23,
   "metadata": {},
   "outputs": [
    {
     "data": {
      "text/plain": [
       "INCIDENT_TYPE_DESC    0\n",
       "HIGHEST_LEVEL_DESC    0\n",
       "BOROUGH_DESC          0\n",
       "c_label               0\n",
       "month                 0\n",
       "dtype: int64"
      ]
     },
     "execution_count": 23,
     "metadata": {},
     "output_type": "execute_result"
    }
   ],
   "source": [
    "df_class.isna().sum()"
   ]
  },
  {
   "cell_type": "code",
   "execution_count": 112,
   "metadata": {},
   "outputs": [],
   "source": [
    "df_class.drop(\"UNITS_ONSCENE\", axis = 1, inplace=True)"
   ]
  },
  {
   "cell_type": "code",
   "execution_count": 24,
   "metadata": {},
   "outputs": [],
   "source": [
    "df_class_final = pd.get_dummies(df_class.drop(\"c_label\", axis = 1)\n",
    "                                , columns = ['INCIDENT_TYPE_DESC',\n",
    "                                             'HIGHEST_LEVEL_DESC', 'BOROUGH_DESC', 'month'], \n",
    "                                drop_first=True)"
   ]
  },
  {
   "cell_type": "code",
   "execution_count": 25,
   "metadata": {},
   "outputs": [
    {
     "data": {
      "text/plain": [
       "(2222336, 202)"
      ]
     },
     "execution_count": 25,
     "metadata": {},
     "output_type": "execute_result"
    }
   ],
   "source": [
    "df_class_final.shape"
   ]
  },
  {
   "cell_type": "code",
   "execution_count": 26,
   "metadata": {},
   "outputs": [],
   "source": [
    "from sklearn.decomposition import PCA\n",
    "pca = PCA(n_components=30)\n",
    "pca.fit(df_class_final)\n",
    "x_pca = pca.transform(df_class_final)"
   ]
  },
  {
   "cell_type": "code",
   "execution_count": 27,
   "metadata": {},
   "outputs": [
    {
     "data": {
      "text/plain": [
       "0.9296418164198862"
      ]
     },
     "execution_count": 27,
     "metadata": {},
     "output_type": "execute_result"
    }
   ],
   "source": [
    "pca.explained_variance_ratio_[0:30].sum()"
   ]
  },
  {
   "cell_type": "code",
   "execution_count": 28,
   "metadata": {},
   "outputs": [],
   "source": [
    "from sklearn.model_selection import train_test_split\n",
    "y = df_class.c_label\n",
    "X = x_pca\n",
    "X_train, X_test, y_train, y_test = train_test_split(X, y, test_size=0.30, random_state=101)"
   ]
  },
  {
   "cell_type": "code",
   "execution_count": 30,
   "metadata": {},
   "outputs": [
    {
     "data": {
      "text/plain": [
       "1.0    1324235\n",
       "2.0     890558\n",
       "3.0       7543\n",
       "Name: c_label, dtype: int64"
      ]
     },
     "execution_count": 30,
     "metadata": {},
     "output_type": "execute_result"
    }
   ],
   "source": [
    "y.value_counts()"
   ]
  },
  {
   "cell_type": "code",
   "execution_count": 31,
   "metadata": {},
   "outputs": [],
   "source": [
    "from sklearn.ensemble import RandomForestClassifier\n",
    "rfc = RandomForestClassifier(n_estimators = 100)"
   ]
  },
  {
   "cell_type": "code",
   "execution_count": 32,
   "metadata": {
    "scrolled": false
   },
   "outputs": [
    {
     "data": {
      "text/plain": [
       "RandomForestClassifier(bootstrap=True, class_weight=None, criterion='gini',\n",
       "            max_depth=None, max_features='auto', max_leaf_nodes=None,\n",
       "            min_impurity_decrease=0.0, min_impurity_split=None,\n",
       "            min_samples_leaf=1, min_samples_split=2,\n",
       "            min_weight_fraction_leaf=0.0, n_estimators=100, n_jobs=None,\n",
       "            oob_score=False, random_state=None, verbose=0,\n",
       "            warm_start=False)"
      ]
     },
     "execution_count": 32,
     "metadata": {},
     "output_type": "execute_result"
    }
   ],
   "source": [
    "rfc.fit(X_train, y_train)"
   ]
  },
  {
   "cell_type": "code",
   "execution_count": 33,
   "metadata": {},
   "outputs": [],
   "source": [
    "y_pred = rfc.predict(X_test)"
   ]
  },
  {
   "cell_type": "code",
   "execution_count": 34,
   "metadata": {},
   "outputs": [
    {
     "name": "stdout",
     "output_type": "stream",
     "text": [
      "Confusion Matrix: \n",
      " [[368501  28431      3]\n",
      " [ 37886 228592   1029]\n",
      " [    37    403   1819]]\n",
      "classification report: \n",
      "               precision    recall  f1-score   support\n",
      "\n",
      "         1.0       0.91      0.93      0.92    396935\n",
      "         2.0       0.89      0.85      0.87    267507\n",
      "         3.0       0.64      0.81      0.71      2259\n",
      "\n",
      "   micro avg       0.90      0.90      0.90    666701\n",
      "   macro avg       0.81      0.86      0.83    666701\n",
      "weighted avg       0.90      0.90      0.90    666701\n",
      "\n"
     ]
    }
   ],
   "source": [
    "from sklearn.metrics import classification_report, confusion_matrix\n",
    "print('Confusion Matrix: \\n', confusion_matrix(y_test, y_pred))\n",
    "print('classification report: \\n', classification_report(y_test, y_pred))"
   ]
  },
  {
   "cell_type": "markdown",
   "metadata": {},
   "source": [
    "__CONCLUSION__"
   ]
  },
  {
   "cell_type": "markdown",
   "metadata": {},
   "source": [
    "- The code \"300 - Rescue, EMS incident, Other\" is the most frequent incident for all boroughs, and Brooklyn has the highest number of incidents.\n",
    "\n",
    "- Year 2015 has seen highest number of incidents, and July is the busiest month for FDNY\n",
    "\n",
    "- In Queens, people are less likely to get trapped inside an elevator compared to other boroughs\n",
    "\n",
    "- There are some incidents with arrival time sooner than the time of incident\n",
    "\n",
    "- Longest time to arrive to an incident scene was 7 days for a malicious, mischievous false call\n",
    "\n",
    "- We found correlation between how long it takes FDNY to arrive on scene and the borough the incident has taken place. We also found correlation between the presence and absence of CO detector and total incident duration above 60 minutes\n",
    "\n",
    "- We removed missing values and tried one-hot encoding for the relevant features to predict the number of units FDNY needs to send to resolve the issue (1 unit vs a team of 2 to 10 units vs a team of more than 10 units). We used Random Forest Classifier and what we found was a decent classification algorithm that can predict incidents needing 1 unit with 92% accuracy, incidents which need a team of 2 to 10 units with 87% accuracy, and incidents which need more than 10 units with 71% accuracy."
   ]
  },
  {
   "cell_type": "code",
   "execution_count": null,
   "metadata": {},
   "outputs": [],
   "source": []
  }
 ],
 "metadata": {
  "kernelspec": {
   "display_name": "Python 3",
   "language": "python",
   "name": "python3"
  },
  "language_info": {
   "codemirror_mode": {
    "name": "ipython",
    "version": 3
   },
   "file_extension": ".py",
   "mimetype": "text/x-python",
   "name": "python",
   "nbconvert_exporter": "python",
   "pygments_lexer": "ipython3",
   "version": "3.6.5"
  }
 },
 "nbformat": 4,
 "nbformat_minor": 2
}
